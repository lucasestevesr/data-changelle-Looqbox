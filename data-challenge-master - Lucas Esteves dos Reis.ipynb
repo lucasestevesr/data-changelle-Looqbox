{
 "cells": [
  {
   "cell_type": "markdown",
   "id": "a9a223e5",
   "metadata": {},
   "source": [
    "Lucas Esteves dos Reis"
   ]
  },
  {
   "cell_type": "code",
   "execution_count": 1,
   "id": "336ff6fe",
   "metadata": {},
   "outputs": [],
   "source": [
    "import pandas as pd\n",
    "import sqlalchemy\n",
    "import seaborn as sns\n",
    "import numpy as np\n",
    "import matplotlib.pyplot as plt"
   ]
  },
  {
   "cell_type": "code",
   "execution_count": 2,
   "id": "c7fd0be7",
   "metadata": {},
   "outputs": [],
   "source": [
    "def connection (user,password,host,db):\n",
    "    '''Function that provides the engine who makes the connection with MySql'''\n",
    "    return sqlalchemy.create_engine(f\"mysql+pymysql://{user}:{password}@{host}/{db}\")\n",
    "\n",
    "def read (table_name):\n",
    "    '''Function that transforms an SQL table into a dataframe'''\n",
    "    return pd.read_sql_table(table_name, engine, 'looqbox_challenge')\n",
    "\n",
    "def query (query):\n",
    "    '''Function that reads an query in SQL table and transform it into a dataframe'''\n",
    "    return pd.read_sql_query(query, engine)    \n",
    " "
   ]
  },
  {
   "cell_type": "code",
   "execution_count": 3,
   "id": "bbd38adc",
   "metadata": {},
   "outputs": [],
   "source": [
    "engine = connection(\"looqbox-challenge\",\"looq-challenge\",\"35.199.127.241\",\"looqbox_challenge\")"
   ]
  },
  {
   "cell_type": "markdown",
   "id": "9551df46",
   "metadata": {},
   "source": [
    "##### Answering questions number 1 to number 5 using Python/SQL:\n"
   ]
  },
  {
   "cell_type": "markdown",
   "id": "1f8777db",
   "metadata": {},
   "source": [
    "##### 1. How many products does the company have?"
   ]
  },
  {
   "cell_type": "code",
   "execution_count": 4,
   "id": "3c16f7ee",
   "metadata": {},
   "outputs": [
    {
     "data": {
      "text/html": [
       "<div>\n",
       "<style scoped>\n",
       "    .dataframe tbody tr th:only-of-type {\n",
       "        vertical-align: middle;\n",
       "    }\n",
       "\n",
       "    .dataframe tbody tr th {\n",
       "        vertical-align: top;\n",
       "    }\n",
       "\n",
       "    .dataframe thead th {\n",
       "        text-align: right;\n",
       "    }\n",
       "</style>\n",
       "<table border=\"1\" class=\"dataframe\">\n",
       "  <thead>\n",
       "    <tr style=\"text-align: right;\">\n",
       "      <th></th>\n",
       "      <th>COUNT(PRODUCT_COD)</th>\n",
       "    </tr>\n",
       "  </thead>\n",
       "  <tbody>\n",
       "    <tr>\n",
       "      <th>0</th>\n",
       "      <td>9994</td>\n",
       "    </tr>\n",
       "  </tbody>\n",
       "</table>\n",
       "</div>"
      ],
      "text/plain": [
       "   COUNT(PRODUCT_COD)\n",
       "0                9994"
      ]
     },
     "execution_count": 4,
     "metadata": {},
     "output_type": "execute_result"
    }
   ],
   "source": [
    "query_code = '''\n",
    "SELECT COUNT(PRODUCT_COD) \n",
    "FROM data_product;\n",
    "'''\n",
    "\n",
    "query(query_code)"
   ]
  },
  {
   "cell_type": "markdown",
   "id": "bb71bf6f",
   "metadata": {},
   "source": [
    "##### 2. What are the 10 most expensive products in the company?\n"
   ]
  },
  {
   "cell_type": "code",
   "execution_count": 5,
   "id": "5bcaa75f",
   "metadata": {
    "scrolled": false
   },
   "outputs": [
    {
     "data": {
      "text/html": [
       "<div>\n",
       "<style scoped>\n",
       "    .dataframe tbody tr th:only-of-type {\n",
       "        vertical-align: middle;\n",
       "    }\n",
       "\n",
       "    .dataframe tbody tr th {\n",
       "        vertical-align: top;\n",
       "    }\n",
       "\n",
       "    .dataframe thead th {\n",
       "        text-align: right;\n",
       "    }\n",
       "</style>\n",
       "<table border=\"1\" class=\"dataframe\">\n",
       "  <thead>\n",
       "    <tr style=\"text-align: right;\">\n",
       "      <th></th>\n",
       "      <th>PRODUCT_COD</th>\n",
       "      <th>PRODUCT_NAME</th>\n",
       "      <th>PRODUCT_VAL</th>\n",
       "      <th>DEP_NAME</th>\n",
       "      <th>DEP_COD</th>\n",
       "      <th>SECTION_NAME</th>\n",
       "      <th>SECTION_COD</th>\n",
       "    </tr>\n",
       "  </thead>\n",
       "  <tbody>\n",
       "    <tr>\n",
       "      <th>0</th>\n",
       "      <td>301409</td>\n",
       "      <td>Whisky Escoces THE MACALLAN Ruby Garrafa 700ml...</td>\n",
       "      <td>741.99</td>\n",
       "      <td>BEBIDAS</td>\n",
       "      <td>2</td>\n",
       "      <td>BEBIDAS</td>\n",
       "      <td>4</td>\n",
       "    </tr>\n",
       "    <tr>\n",
       "      <th>1</th>\n",
       "      <td>176185</td>\n",
       "      <td>Whisky Escoces JOHNNIE WALKER Blue Label Garra...</td>\n",
       "      <td>735.90</td>\n",
       "      <td>BEBIDAS</td>\n",
       "      <td>2</td>\n",
       "      <td>BEBIDAS</td>\n",
       "      <td>4</td>\n",
       "    </tr>\n",
       "    <tr>\n",
       "      <th>2</th>\n",
       "      <td>315481</td>\n",
       "      <td>Cafeteira Expresso 3 CORACOES Tres Modo Vermelho</td>\n",
       "      <td>499.00</td>\n",
       "      <td>BEBIDAS</td>\n",
       "      <td>2</td>\n",
       "      <td>BEBIDAS</td>\n",
       "      <td>4</td>\n",
       "    </tr>\n",
       "    <tr>\n",
       "      <th>3</th>\n",
       "      <td>100280</td>\n",
       "      <td>Vinho Portugues Tinto Vintage QUINTA DO CRASTO...</td>\n",
       "      <td>445.90</td>\n",
       "      <td>BEBIDAS</td>\n",
       "      <td>2</td>\n",
       "      <td>VINHOS</td>\n",
       "      <td>30</td>\n",
       "    </tr>\n",
       "    <tr>\n",
       "      <th>4</th>\n",
       "      <td>320046</td>\n",
       "      <td>Escova Dental Eletrica ORAL B D34 Professional...</td>\n",
       "      <td>399.90</td>\n",
       "      <td>PERFUMARIA</td>\n",
       "      <td>8</td>\n",
       "      <td>HIGIENE BUCAL</td>\n",
       "      <td>39</td>\n",
       "    </tr>\n",
       "    <tr>\n",
       "      <th>5</th>\n",
       "      <td>190817</td>\n",
       "      <td>Champagne Rose VEUVE CLICQUOT PONSARDIM Garraf...</td>\n",
       "      <td>366.90</td>\n",
       "      <td>MERCEARIA</td>\n",
       "      <td>6</td>\n",
       "      <td>ARTIGOS-PARA-O-LAR</td>\n",
       "      <td>2</td>\n",
       "    </tr>\n",
       "    <tr>\n",
       "      <th>6</th>\n",
       "      <td>153795</td>\n",
       "      <td>Champagne Frances Brut Imperial MOET Rose Garr...</td>\n",
       "      <td>359.90</td>\n",
       "      <td>MERCEARIA</td>\n",
       "      <td>6</td>\n",
       "      <td>ARTIGOS-PARA-O-LAR</td>\n",
       "      <td>2</td>\n",
       "    </tr>\n",
       "    <tr>\n",
       "      <th>7</th>\n",
       "      <td>311397</td>\n",
       "      <td>Conjunto de Panelas Allegra em Inox TRAMONTINA...</td>\n",
       "      <td>359.00</td>\n",
       "      <td>MERCEARIA</td>\n",
       "      <td>6</td>\n",
       "      <td>ARTIGOS-PARA-O-LAR</td>\n",
       "      <td>2</td>\n",
       "    </tr>\n",
       "    <tr>\n",
       "      <th>8</th>\n",
       "      <td>147706</td>\n",
       "      <td>Whisky Escoces CHIVAS REGAL 18 Anos Garrafa 750ml</td>\n",
       "      <td>329.90</td>\n",
       "      <td>BEBIDAS</td>\n",
       "      <td>2</td>\n",
       "      <td>BEBIDAS</td>\n",
       "      <td>4</td>\n",
       "    </tr>\n",
       "    <tr>\n",
       "      <th>9</th>\n",
       "      <td>44311</td>\n",
       "      <td>Champagne Frances Demi Sec Nectar Imperial MOE...</td>\n",
       "      <td>315.90</td>\n",
       "      <td>MERCEARIA</td>\n",
       "      <td>6</td>\n",
       "      <td>ARTIGOS-PARA-O-LAR</td>\n",
       "      <td>2</td>\n",
       "    </tr>\n",
       "  </tbody>\n",
       "</table>\n",
       "</div>"
      ],
      "text/plain": [
       "   PRODUCT_COD                                       PRODUCT_NAME  \\\n",
       "0       301409  Whisky Escoces THE MACALLAN Ruby Garrafa 700ml...   \n",
       "1       176185  Whisky Escoces JOHNNIE WALKER Blue Label Garra...   \n",
       "2       315481   Cafeteira Expresso 3 CORACOES Tres Modo Vermelho   \n",
       "3       100280  Vinho Portugues Tinto Vintage QUINTA DO CRASTO...   \n",
       "4       320046  Escova Dental Eletrica ORAL B D34 Professional...   \n",
       "5       190817  Champagne Rose VEUVE CLICQUOT PONSARDIM Garraf...   \n",
       "6       153795  Champagne Frances Brut Imperial MOET Rose Garr...   \n",
       "7       311397  Conjunto de Panelas Allegra em Inox TRAMONTINA...   \n",
       "8       147706  Whisky Escoces CHIVAS REGAL 18 Anos Garrafa 750ml   \n",
       "9        44311  Champagne Frances Demi Sec Nectar Imperial MOE...   \n",
       "\n",
       "   PRODUCT_VAL    DEP_NAME  DEP_COD        SECTION_NAME  SECTION_COD  \n",
       "0       741.99     BEBIDAS        2             BEBIDAS            4  \n",
       "1       735.90     BEBIDAS        2             BEBIDAS            4  \n",
       "2       499.00     BEBIDAS        2             BEBIDAS            4  \n",
       "3       445.90     BEBIDAS        2              VINHOS           30  \n",
       "4       399.90  PERFUMARIA        8       HIGIENE BUCAL           39  \n",
       "5       366.90   MERCEARIA        6  ARTIGOS-PARA-O-LAR            2  \n",
       "6       359.90   MERCEARIA        6  ARTIGOS-PARA-O-LAR            2  \n",
       "7       359.00   MERCEARIA        6  ARTIGOS-PARA-O-LAR            2  \n",
       "8       329.90     BEBIDAS        2             BEBIDAS            4  \n",
       "9       315.90   MERCEARIA        6  ARTIGOS-PARA-O-LAR            2  "
      ]
     },
     "execution_count": 5,
     "metadata": {},
     "output_type": "execute_result"
    }
   ],
   "source": [
    "query_code = '''\n",
    "SELECT * \n",
    "FROM data_product\n",
    "ORDER BY PRODUCT_VAL DESC\n",
    "LIMIT 10\n",
    ";\n",
    "'''\n",
    "query(query_code)"
   ]
  },
  {
   "cell_type": "markdown",
   "id": "dabbb284",
   "metadata": {},
   "source": [
    "##### 3. What sections do the 'BEBIDAS' and 'PADARIA' departments have?"
   ]
  },
  {
   "cell_type": "code",
   "execution_count": 6,
   "id": "8991607d",
   "metadata": {},
   "outputs": [
    {
     "data": {
      "text/html": [
       "<div>\n",
       "<style scoped>\n",
       "    .dataframe tbody tr th:only-of-type {\n",
       "        vertical-align: middle;\n",
       "    }\n",
       "\n",
       "    .dataframe tbody tr th {\n",
       "        vertical-align: top;\n",
       "    }\n",
       "\n",
       "    .dataframe thead th {\n",
       "        text-align: right;\n",
       "    }\n",
       "</style>\n",
       "<table border=\"1\" class=\"dataframe\">\n",
       "  <thead>\n",
       "    <tr style=\"text-align: right;\">\n",
       "      <th></th>\n",
       "      <th>SECTION_NAME</th>\n",
       "      <th>DEP_NAME</th>\n",
       "    </tr>\n",
       "  </thead>\n",
       "  <tbody>\n",
       "    <tr>\n",
       "      <th>0</th>\n",
       "      <td>BEBIDAS</td>\n",
       "      <td>BEBIDAS</td>\n",
       "    </tr>\n",
       "    <tr>\n",
       "      <th>1</th>\n",
       "      <td>CERVEJAS</td>\n",
       "      <td>BEBIDAS</td>\n",
       "    </tr>\n",
       "    <tr>\n",
       "      <th>2</th>\n",
       "      <td>REFRESCOS</td>\n",
       "      <td>BEBIDAS</td>\n",
       "    </tr>\n",
       "    <tr>\n",
       "      <th>3</th>\n",
       "      <td>VINHOS</td>\n",
       "      <td>BEBIDAS</td>\n",
       "    </tr>\n",
       "    <tr>\n",
       "      <th>4</th>\n",
       "      <td>DOCES-E-SOBREMESAS</td>\n",
       "      <td>PADARIA</td>\n",
       "    </tr>\n",
       "    <tr>\n",
       "      <th>5</th>\n",
       "      <td>GESTANTE</td>\n",
       "      <td>PADARIA</td>\n",
       "    </tr>\n",
       "    <tr>\n",
       "      <th>6</th>\n",
       "      <td>PADARIA</td>\n",
       "      <td>PADARIA</td>\n",
       "    </tr>\n",
       "    <tr>\n",
       "      <th>7</th>\n",
       "      <td>QUEIJOS-E-FRIOS</td>\n",
       "      <td>PADARIA</td>\n",
       "    </tr>\n",
       "  </tbody>\n",
       "</table>\n",
       "</div>"
      ],
      "text/plain": [
       "         SECTION_NAME DEP_NAME\n",
       "0             BEBIDAS  BEBIDAS\n",
       "1            CERVEJAS  BEBIDAS\n",
       "2           REFRESCOS  BEBIDAS\n",
       "3              VINHOS  BEBIDAS\n",
       "4  DOCES-E-SOBREMESAS  PADARIA\n",
       "5            GESTANTE  PADARIA\n",
       "6             PADARIA  PADARIA\n",
       "7     QUEIJOS-E-FRIOS  PADARIA"
      ]
     },
     "execution_count": 6,
     "metadata": {},
     "output_type": "execute_result"
    }
   ],
   "source": [
    "query_code = '''\n",
    "SELECT DISTINCT SECTION_NAME, DEP_NAME \n",
    "FROM data_product\n",
    "WHERE DEP_NAME = 'BEBIDAS' OR DEP_NAME = 'PADARIA'\n",
    "ORDER BY DEP_NAME ASC\n",
    ";\n",
    "'''\n",
    "query(query_code)"
   ]
  },
  {
   "cell_type": "markdown",
   "id": "50f9e3fe",
   "metadata": {},
   "source": [
    "##### 4. Which store sold the most products in one day? Which day?"
   ]
  },
  {
   "cell_type": "code",
   "execution_count": 7,
   "id": "e8a5d2da",
   "metadata": {},
   "outputs": [
    {
     "data": {
      "text/html": [
       "<div>\n",
       "<style scoped>\n",
       "    .dataframe tbody tr th:only-of-type {\n",
       "        vertical-align: middle;\n",
       "    }\n",
       "\n",
       "    .dataframe tbody tr th {\n",
       "        vertical-align: top;\n",
       "    }\n",
       "\n",
       "    .dataframe thead th {\n",
       "        text-align: right;\n",
       "    }\n",
       "</style>\n",
       "<table border=\"1\" class=\"dataframe\">\n",
       "  <thead>\n",
       "    <tr style=\"text-align: right;\">\n",
       "      <th></th>\n",
       "      <th>SALES_QTY</th>\n",
       "      <th>DATE</th>\n",
       "      <th>STORE_NAME</th>\n",
       "    </tr>\n",
       "  </thead>\n",
       "  <tbody>\n",
       "    <tr>\n",
       "      <th>0</th>\n",
       "      <td>24332</td>\n",
       "      <td>2019-07-03</td>\n",
       "      <td>Chicago</td>\n",
       "    </tr>\n",
       "  </tbody>\n",
       "</table>\n",
       "</div>"
      ],
      "text/plain": [
       "   SALES_QTY        DATE STORE_NAME\n",
       "0      24332  2019-07-03    Chicago"
      ]
     },
     "execution_count": 7,
     "metadata": {},
     "output_type": "execute_result"
    }
   ],
   "source": [
    "query_code = '''\n",
    "SELECT ds.SALES_QTY, \n",
    "ds.DATE, \n",
    "dc.STORE_NAME\n",
    "from data_store_sales AS ds\n",
    "join data_store_cad AS dc on dc.STORE_CODE = ds.STORE_CODE\n",
    "ORDER BY SALES_QTY DESC\n",
    "LIMIT 1\n",
    ";\n",
    "'''\n",
    "query(query_code)"
   ]
  },
  {
   "cell_type": "markdown",
   "id": "06b5235b",
   "metadata": {},
   "source": [
    "##### 5. Bonus!! What was the total sale of products (in Dollar) of each business area in the first quarter of 2019?"
   ]
  },
  {
   "cell_type": "code",
   "execution_count": 8,
   "id": "f29abb60",
   "metadata": {},
   "outputs": [
    {
     "data": {
      "text/html": [
       "<div>\n",
       "<style scoped>\n",
       "    .dataframe tbody tr th:only-of-type {\n",
       "        vertical-align: middle;\n",
       "    }\n",
       "\n",
       "    .dataframe tbody tr th {\n",
       "        vertical-align: top;\n",
       "    }\n",
       "\n",
       "    .dataframe thead th {\n",
       "        text-align: right;\n",
       "    }\n",
       "</style>\n",
       "<table border=\"1\" class=\"dataframe\">\n",
       "  <thead>\n",
       "    <tr style=\"text-align: right;\">\n",
       "      <th></th>\n",
       "      <th>SUM(ds.SALES_VALUE)</th>\n",
       "      <th>BUSINESS_NAME</th>\n",
       "    </tr>\n",
       "  </thead>\n",
       "  <tbody>\n",
       "    <tr>\n",
       "      <th>0</th>\n",
       "      <td>80384884.60</td>\n",
       "      <td>Atacado</td>\n",
       "    </tr>\n",
       "    <tr>\n",
       "      <th>1</th>\n",
       "      <td>81776691.73</td>\n",
       "      <td>Farma</td>\n",
       "    </tr>\n",
       "    <tr>\n",
       "      <th>2</th>\n",
       "      <td>32072326.40</td>\n",
       "      <td>Posto</td>\n",
       "    </tr>\n",
       "    <tr>\n",
       "      <th>3</th>\n",
       "      <td>80171122.80</td>\n",
       "      <td>Proximidade</td>\n",
       "    </tr>\n",
       "    <tr>\n",
       "      <th>4</th>\n",
       "      <td>81032347.65</td>\n",
       "      <td>Varejo</td>\n",
       "    </tr>\n",
       "  </tbody>\n",
       "</table>\n",
       "</div>"
      ],
      "text/plain": [
       "   SUM(ds.SALES_VALUE) BUSINESS_NAME\n",
       "0          80384884.60       Atacado\n",
       "1          81776691.73         Farma\n",
       "2          32072326.40         Posto\n",
       "3          80171122.80   Proximidade\n",
       "4          81032347.65        Varejo"
      ]
     },
     "execution_count": 8,
     "metadata": {},
     "output_type": "execute_result"
    }
   ],
   "source": [
    "query_code = '''\n",
    "SELECT SUM(ds.SALES_VALUE),\n",
    "dc.BUSINESS_NAME\n",
    "from data_store_sales AS ds\n",
    "INNER JOIN data_store_cad AS dc on dc.STORE_CODE = ds.STORE_CODE\n",
    "WHERE ds.DATE BETWEEN '2019-01-01' AND '2019-03-31'\n",
    "GROUP BY dc.BUSINESS_NAME\n",
    ";\n",
    "'''\n",
    "query(query_code)"
   ]
  },
  {
   "cell_type": "markdown",
   "id": "485d265a",
   "metadata": {},
   "source": [
    "##### Answering questions number 1 to number 5 using Python/Pandas:\n"
   ]
  },
  {
   "cell_type": "code",
   "execution_count": 9,
   "id": "dcc7f150",
   "metadata": {},
   "outputs": [],
   "source": [
    "data_product = read('data_product')"
   ]
  },
  {
   "cell_type": "code",
   "execution_count": 10,
   "id": "81b65a63",
   "metadata": {},
   "outputs": [
    {
     "name": "stdout",
     "output_type": "stream",
     "text": [
      "<class 'pandas.core.frame.DataFrame'>\n",
      "RangeIndex: 9994 entries, 0 to 9993\n",
      "Data columns (total 7 columns):\n",
      " #   Column        Non-Null Count  Dtype  \n",
      "---  ------        --------------  -----  \n",
      " 0   PRODUCT_COD   9994 non-null   int64  \n",
      " 1   PRODUCT_NAME  9994 non-null   object \n",
      " 2   PRODUCT_VAL   9994 non-null   float64\n",
      " 3   DEP_NAME      9994 non-null   object \n",
      " 4   DEP_COD       9994 non-null   int64  \n",
      " 5   SECTION_NAME  9994 non-null   object \n",
      " 6   SECTION_COD   9994 non-null   int64  \n",
      "dtypes: float64(1), int64(3), object(3)\n",
      "memory usage: 546.7+ KB\n"
     ]
    }
   ],
   "source": [
    "data_product.info()"
   ]
  },
  {
   "cell_type": "markdown",
   "id": "315c6af4",
   "metadata": {},
   "source": [
    "##### 1. How many products does the company have?"
   ]
  },
  {
   "cell_type": "code",
   "execution_count": 11,
   "id": "10d160f2",
   "metadata": {},
   "outputs": [
    {
     "data": {
      "text/plain": [
       "9994"
      ]
     },
     "execution_count": 11,
     "metadata": {},
     "output_type": "execute_result"
    }
   ],
   "source": [
    "data_product['PRODUCT_COD'].count()"
   ]
  },
  {
   "cell_type": "markdown",
   "id": "df64aa92",
   "metadata": {},
   "source": [
    "##### 2. What are the 10 most expensive products in the company?"
   ]
  },
  {
   "cell_type": "code",
   "execution_count": 12,
   "id": "a8b1c2a0",
   "metadata": {},
   "outputs": [
    {
     "data": {
      "text/html": [
       "<div>\n",
       "<style scoped>\n",
       "    .dataframe tbody tr th:only-of-type {\n",
       "        vertical-align: middle;\n",
       "    }\n",
       "\n",
       "    .dataframe tbody tr th {\n",
       "        vertical-align: top;\n",
       "    }\n",
       "\n",
       "    .dataframe thead th {\n",
       "        text-align: right;\n",
       "    }\n",
       "</style>\n",
       "<table border=\"1\" class=\"dataframe\">\n",
       "  <thead>\n",
       "    <tr style=\"text-align: right;\">\n",
       "      <th></th>\n",
       "      <th>PRODUCT_COD</th>\n",
       "      <th>PRODUCT_NAME</th>\n",
       "      <th>PRODUCT_VAL</th>\n",
       "      <th>DEP_NAME</th>\n",
       "      <th>DEP_COD</th>\n",
       "      <th>SECTION_NAME</th>\n",
       "      <th>SECTION_COD</th>\n",
       "    </tr>\n",
       "  </thead>\n",
       "  <tbody>\n",
       "    <tr>\n",
       "      <th>7942</th>\n",
       "      <td>301409</td>\n",
       "      <td>Whisky Escoces THE MACALLAN Ruby Garrafa 700ml...</td>\n",
       "      <td>741.99</td>\n",
       "      <td>BEBIDAS</td>\n",
       "      <td>2</td>\n",
       "      <td>BEBIDAS</td>\n",
       "      <td>4</td>\n",
       "    </tr>\n",
       "    <tr>\n",
       "      <th>5374</th>\n",
       "      <td>176185</td>\n",
       "      <td>Whisky Escoces JOHNNIE WALKER Blue Label Garra...</td>\n",
       "      <td>735.90</td>\n",
       "      <td>BEBIDAS</td>\n",
       "      <td>2</td>\n",
       "      <td>BEBIDAS</td>\n",
       "      <td>4</td>\n",
       "    </tr>\n",
       "    <tr>\n",
       "      <th>9032</th>\n",
       "      <td>315481</td>\n",
       "      <td>Cafeteira Expresso 3 CORACOES Tres Modo Vermelho</td>\n",
       "      <td>499.00</td>\n",
       "      <td>BEBIDAS</td>\n",
       "      <td>2</td>\n",
       "      <td>BEBIDAS</td>\n",
       "      <td>4</td>\n",
       "    </tr>\n",
       "    <tr>\n",
       "      <th>3057</th>\n",
       "      <td>100280</td>\n",
       "      <td>Vinho Portugues Tinto Vintage QUINTA DO CRASTO...</td>\n",
       "      <td>445.90</td>\n",
       "      <td>BEBIDAS</td>\n",
       "      <td>2</td>\n",
       "      <td>VINHOS</td>\n",
       "      <td>30</td>\n",
       "    </tr>\n",
       "    <tr>\n",
       "      <th>9237</th>\n",
       "      <td>320046</td>\n",
       "      <td>Escova Dental Eletrica ORAL B D34 Professional...</td>\n",
       "      <td>399.90</td>\n",
       "      <td>PERFUMARIA</td>\n",
       "      <td>8</td>\n",
       "      <td>HIGIENE BUCAL</td>\n",
       "      <td>39</td>\n",
       "    </tr>\n",
       "    <tr>\n",
       "      <th>5677</th>\n",
       "      <td>190817</td>\n",
       "      <td>Champagne Rose VEUVE CLICQUOT PONSARDIM Garraf...</td>\n",
       "      <td>366.90</td>\n",
       "      <td>MERCEARIA</td>\n",
       "      <td>6</td>\n",
       "      <td>ARTIGOS-PARA-O-LAR</td>\n",
       "      <td>2</td>\n",
       "    </tr>\n",
       "    <tr>\n",
       "      <th>4640</th>\n",
       "      <td>153795</td>\n",
       "      <td>Champagne Frances Brut Imperial MOET Rose Garr...</td>\n",
       "      <td>359.90</td>\n",
       "      <td>MERCEARIA</td>\n",
       "      <td>6</td>\n",
       "      <td>ARTIGOS-PARA-O-LAR</td>\n",
       "      <td>2</td>\n",
       "    </tr>\n",
       "    <tr>\n",
       "      <th>8647</th>\n",
       "      <td>311397</td>\n",
       "      <td>Conjunto de Panelas Allegra em Inox TRAMONTINA...</td>\n",
       "      <td>359.00</td>\n",
       "      <td>MERCEARIA</td>\n",
       "      <td>6</td>\n",
       "      <td>ARTIGOS-PARA-O-LAR</td>\n",
       "      <td>2</td>\n",
       "    </tr>\n",
       "    <tr>\n",
       "      <th>4449</th>\n",
       "      <td>147706</td>\n",
       "      <td>Whisky Escoces CHIVAS REGAL 18 Anos Garrafa 750ml</td>\n",
       "      <td>329.90</td>\n",
       "      <td>BEBIDAS</td>\n",
       "      <td>2</td>\n",
       "      <td>BEBIDAS</td>\n",
       "      <td>4</td>\n",
       "    </tr>\n",
       "    <tr>\n",
       "      <th>1273</th>\n",
       "      <td>44311</td>\n",
       "      <td>Champagne Frances Demi Sec Nectar Imperial MOE...</td>\n",
       "      <td>315.90</td>\n",
       "      <td>MERCEARIA</td>\n",
       "      <td>6</td>\n",
       "      <td>ARTIGOS-PARA-O-LAR</td>\n",
       "      <td>2</td>\n",
       "    </tr>\n",
       "  </tbody>\n",
       "</table>\n",
       "</div>"
      ],
      "text/plain": [
       "      PRODUCT_COD                                       PRODUCT_NAME  \\\n",
       "7942       301409  Whisky Escoces THE MACALLAN Ruby Garrafa 700ml...   \n",
       "5374       176185  Whisky Escoces JOHNNIE WALKER Blue Label Garra...   \n",
       "9032       315481   Cafeteira Expresso 3 CORACOES Tres Modo Vermelho   \n",
       "3057       100280  Vinho Portugues Tinto Vintage QUINTA DO CRASTO...   \n",
       "9237       320046  Escova Dental Eletrica ORAL B D34 Professional...   \n",
       "5677       190817  Champagne Rose VEUVE CLICQUOT PONSARDIM Garraf...   \n",
       "4640       153795  Champagne Frances Brut Imperial MOET Rose Garr...   \n",
       "8647       311397  Conjunto de Panelas Allegra em Inox TRAMONTINA...   \n",
       "4449       147706  Whisky Escoces CHIVAS REGAL 18 Anos Garrafa 750ml   \n",
       "1273        44311  Champagne Frances Demi Sec Nectar Imperial MOE...   \n",
       "\n",
       "      PRODUCT_VAL    DEP_NAME  DEP_COD        SECTION_NAME  SECTION_COD  \n",
       "7942       741.99     BEBIDAS        2             BEBIDAS            4  \n",
       "5374       735.90     BEBIDAS        2             BEBIDAS            4  \n",
       "9032       499.00     BEBIDAS        2             BEBIDAS            4  \n",
       "3057       445.90     BEBIDAS        2              VINHOS           30  \n",
       "9237       399.90  PERFUMARIA        8       HIGIENE BUCAL           39  \n",
       "5677       366.90   MERCEARIA        6  ARTIGOS-PARA-O-LAR            2  \n",
       "4640       359.90   MERCEARIA        6  ARTIGOS-PARA-O-LAR            2  \n",
       "8647       359.00   MERCEARIA        6  ARTIGOS-PARA-O-LAR            2  \n",
       "4449       329.90     BEBIDAS        2             BEBIDAS            4  \n",
       "1273       315.90   MERCEARIA        6  ARTIGOS-PARA-O-LAR            2  "
      ]
     },
     "execution_count": 12,
     "metadata": {},
     "output_type": "execute_result"
    }
   ],
   "source": [
    "data_product.nlargest(10,'PRODUCT_VAL', 'first')"
   ]
  },
  {
   "cell_type": "markdown",
   "id": "2a4d95e4",
   "metadata": {},
   "source": [
    "##### 3. What sections do the 'BEBIDAS' and 'PADARIA' departments have?"
   ]
  },
  {
   "cell_type": "code",
   "execution_count": 13,
   "id": "c553db92",
   "metadata": {},
   "outputs": [
    {
     "data": {
      "text/plain": [
       "BEBIDAS      1038\n",
       "VINHOS        522\n",
       "CERVEJAS      215\n",
       "REFRESCOS      23\n",
       "Name: SECTION_NAME, dtype: int64"
      ]
     },
     "execution_count": 13,
     "metadata": {},
     "output_type": "execute_result"
    }
   ],
   "source": [
    "bebidas = data_product.query('DEP_NAME == \"BEBIDAS\"')\n",
    "bebidas['SECTION_NAME'].value_counts()"
   ]
  },
  {
   "cell_type": "markdown",
   "id": "c6e968fd",
   "metadata": {},
   "source": [
    "For Bebidas department we have four sections, that's \n",
    "Bebidas, Vinhos, Cervejas and Refrescos."
   ]
  },
  {
   "cell_type": "code",
   "execution_count": 14,
   "id": "6e757687",
   "metadata": {},
   "outputs": [
    {
     "data": {
      "text/plain": [
       "DOCES-E-SOBREMESAS    734\n",
       "PADARIA               287\n",
       "QUEIJOS-E-FRIOS       147\n",
       "GESTANTE                1\n",
       "Name: SECTION_NAME, dtype: int64"
      ]
     },
     "execution_count": 14,
     "metadata": {},
     "output_type": "execute_result"
    }
   ],
   "source": [
    "padaria = data_product.query('DEP_NAME == \"PADARIA\"')\n",
    "padaria['SECTION_NAME'].value_counts()"
   ]
  },
  {
   "cell_type": "markdown",
   "id": "b0b8825b",
   "metadata": {},
   "source": [
    "For Padaria department we have four sections, that's \n",
    "Doces e Sobremesas, Padaria, Queijos e Frios and Gestante."
   ]
  },
  {
   "cell_type": "markdown",
   "id": "26974b97",
   "metadata": {},
   "source": [
    "##### 4. Which store sold the most products in one day? Which day?"
   ]
  },
  {
   "cell_type": "code",
   "execution_count": 15,
   "id": "17b2c52b",
   "metadata": {},
   "outputs": [],
   "source": [
    "data_store_sales = read('data_store_sales')\n",
    "data_store_cad = read('data_store_cad')"
   ]
  },
  {
   "cell_type": "code",
   "execution_count": 16,
   "id": "82c11374",
   "metadata": {},
   "outputs": [
    {
     "data": {
      "text/html": [
       "<div>\n",
       "<style scoped>\n",
       "    .dataframe tbody tr th:only-of-type {\n",
       "        vertical-align: middle;\n",
       "    }\n",
       "\n",
       "    .dataframe tbody tr th {\n",
       "        vertical-align: top;\n",
       "    }\n",
       "\n",
       "    .dataframe thead th {\n",
       "        text-align: right;\n",
       "    }\n",
       "</style>\n",
       "<table border=\"1\" class=\"dataframe\">\n",
       "  <thead>\n",
       "    <tr style=\"text-align: right;\">\n",
       "      <th></th>\n",
       "      <th>STORE_CODE</th>\n",
       "      <th>STORE_NAME</th>\n",
       "      <th>START_DATE</th>\n",
       "      <th>END_DATE</th>\n",
       "      <th>BUSINESS_NAME</th>\n",
       "      <th>BUSINESS_CODE</th>\n",
       "    </tr>\n",
       "  </thead>\n",
       "  <tbody>\n",
       "    <tr>\n",
       "      <th>0</th>\n",
       "      <td>1</td>\n",
       "      <td>Sao Paulo</td>\n",
       "      <td>2006-10-01</td>\n",
       "      <td></td>\n",
       "      <td>Varejo</td>\n",
       "      <td>1</td>\n",
       "    </tr>\n",
       "    <tr>\n",
       "      <th>1</th>\n",
       "      <td>2</td>\n",
       "      <td>Chicago</td>\n",
       "      <td>2007-10-01</td>\n",
       "      <td></td>\n",
       "      <td>Varejo</td>\n",
       "      <td>1</td>\n",
       "    </tr>\n",
       "  </tbody>\n",
       "</table>\n",
       "</div>"
      ],
      "text/plain": [
       "   STORE_CODE STORE_NAME  START_DATE END_DATE BUSINESS_NAME  BUSINESS_CODE\n",
       "0           1  Sao Paulo  2006-10-01                 Varejo              1\n",
       "1           2    Chicago  2007-10-01                 Varejo              1"
      ]
     },
     "execution_count": 16,
     "metadata": {},
     "output_type": "execute_result"
    }
   ],
   "source": [
    "data_store_cad.head(2)"
   ]
  },
  {
   "cell_type": "code",
   "execution_count": 17,
   "id": "26fac4fc",
   "metadata": {},
   "outputs": [
    {
     "data": {
      "text/html": [
       "<div>\n",
       "<style scoped>\n",
       "    .dataframe tbody tr th:only-of-type {\n",
       "        vertical-align: middle;\n",
       "    }\n",
       "\n",
       "    .dataframe tbody tr th {\n",
       "        vertical-align: top;\n",
       "    }\n",
       "\n",
       "    .dataframe thead th {\n",
       "        text-align: right;\n",
       "    }\n",
       "</style>\n",
       "<table border=\"1\" class=\"dataframe\">\n",
       "  <thead>\n",
       "    <tr style=\"text-align: right;\">\n",
       "      <th></th>\n",
       "      <th>STORE_CODE</th>\n",
       "      <th>DATE</th>\n",
       "      <th>SALES_VALUE</th>\n",
       "      <th>SALES_QTY</th>\n",
       "    </tr>\n",
       "  </thead>\n",
       "  <tbody>\n",
       "    <tr>\n",
       "      <th>0</th>\n",
       "      <td>1</td>\n",
       "      <td>2014-11-23</td>\n",
       "      <td>111387.87</td>\n",
       "      <td>7227</td>\n",
       "    </tr>\n",
       "    <tr>\n",
       "      <th>1</th>\n",
       "      <td>10</td>\n",
       "      <td>2014-11-23</td>\n",
       "      <td>63256.35</td>\n",
       "      <td>4362</td>\n",
       "    </tr>\n",
       "  </tbody>\n",
       "</table>\n",
       "</div>"
      ],
      "text/plain": [
       "   STORE_CODE       DATE  SALES_VALUE  SALES_QTY\n",
       "0           1 2014-11-23    111387.87       7227\n",
       "1          10 2014-11-23     63256.35       4362"
      ]
     },
     "execution_count": 17,
     "metadata": {},
     "output_type": "execute_result"
    }
   ],
   "source": [
    "data_store_sales.head(2)"
   ]
  },
  {
   "cell_type": "code",
   "execution_count": 18,
   "id": "bdd65bc6",
   "metadata": {},
   "outputs": [
    {
     "data": {
      "text/plain": [
       "24332"
      ]
     },
     "execution_count": 18,
     "metadata": {},
     "output_type": "execute_result"
    }
   ],
   "source": [
    "data_store_sales['SALES_QTY'].max()"
   ]
  },
  {
   "cell_type": "code",
   "execution_count": 19,
   "id": "9d7edfbf",
   "metadata": {},
   "outputs": [
    {
     "data": {
      "text/html": [
       "<div>\n",
       "<style scoped>\n",
       "    .dataframe tbody tr th:only-of-type {\n",
       "        vertical-align: middle;\n",
       "    }\n",
       "\n",
       "    .dataframe tbody tr th {\n",
       "        vertical-align: top;\n",
       "    }\n",
       "\n",
       "    .dataframe thead th {\n",
       "        text-align: right;\n",
       "    }\n",
       "</style>\n",
       "<table border=\"1\" class=\"dataframe\">\n",
       "  <thead>\n",
       "    <tr style=\"text-align: right;\">\n",
       "      <th></th>\n",
       "      <th>STORE_CODE</th>\n",
       "      <th>DATE</th>\n",
       "      <th>SALES_VALUE</th>\n",
       "      <th>SALES_QTY</th>\n",
       "    </tr>\n",
       "  </thead>\n",
       "  <tbody>\n",
       "    <tr>\n",
       "      <th>32133</th>\n",
       "      <td>2</td>\n",
       "      <td>2019-07-03</td>\n",
       "      <td>377886.88</td>\n",
       "      <td>24332</td>\n",
       "    </tr>\n",
       "  </tbody>\n",
       "</table>\n",
       "</div>"
      ],
      "text/plain": [
       "       STORE_CODE       DATE  SALES_VALUE  SALES_QTY\n",
       "32133           2 2019-07-03    377886.88      24332"
      ]
     },
     "execution_count": 19,
     "metadata": {},
     "output_type": "execute_result"
    }
   ],
   "source": [
    "data_store_sales.query('SALES_QTY == 24332')"
   ]
  },
  {
   "cell_type": "markdown",
   "id": "be61e388",
   "metadata": {},
   "source": [
    "Store two at 2019-07-03."
   ]
  },
  {
   "cell_type": "code",
   "execution_count": 20,
   "id": "4c4045a4",
   "metadata": {},
   "outputs": [
    {
     "data": {
      "text/plain": [
       "1    Chicago\n",
       "Name: STORE_NAME, dtype: object"
      ]
     },
     "execution_count": 20,
     "metadata": {},
     "output_type": "execute_result"
    }
   ],
   "source": [
    "data_store_cad.query('STORE_CODE == 2')['STORE_NAME']"
   ]
  },
  {
   "cell_type": "markdown",
   "id": "ca9afba1",
   "metadata": {},
   "source": [
    "Chicago is the store that sold most products on the day 3 of July of 2019."
   ]
  },
  {
   "cell_type": "markdown",
   "id": "9cad9ac0",
   "metadata": {},
   "source": [
    "##### 5. Bonus!! What was the total sale of products (in Dollar) of each business area in the first quarter of 2019?"
   ]
  },
  {
   "cell_type": "code",
   "execution_count": 21,
   "id": "ba0ae887",
   "metadata": {},
   "outputs": [],
   "source": [
    "merge = pd.merge(data_store_sales, data_store_cad, how=\"inner\", on=[\"STORE_CODE\", \"STORE_CODE\"])"
   ]
  },
  {
   "cell_type": "code",
   "execution_count": 22,
   "id": "972af360",
   "metadata": {},
   "outputs": [
    {
     "data": {
      "text/html": [
       "<div>\n",
       "<style scoped>\n",
       "    .dataframe tbody tr th:only-of-type {\n",
       "        vertical-align: middle;\n",
       "    }\n",
       "\n",
       "    .dataframe tbody tr th {\n",
       "        vertical-align: top;\n",
       "    }\n",
       "\n",
       "    .dataframe thead th {\n",
       "        text-align: right;\n",
       "    }\n",
       "</style>\n",
       "<table border=\"1\" class=\"dataframe\">\n",
       "  <thead>\n",
       "    <tr style=\"text-align: right;\">\n",
       "      <th></th>\n",
       "      <th>STORE_CODE</th>\n",
       "      <th>DATE</th>\n",
       "      <th>SALES_VALUE</th>\n",
       "      <th>SALES_QTY</th>\n",
       "      <th>STORE_NAME</th>\n",
       "      <th>START_DATE</th>\n",
       "      <th>END_DATE</th>\n",
       "      <th>BUSINESS_NAME</th>\n",
       "      <th>BUSINESS_CODE</th>\n",
       "    </tr>\n",
       "  </thead>\n",
       "  <tbody>\n",
       "    <tr>\n",
       "      <th>0</th>\n",
       "      <td>1</td>\n",
       "      <td>2014-11-23</td>\n",
       "      <td>111387.87</td>\n",
       "      <td>7227</td>\n",
       "      <td>Sao Paulo</td>\n",
       "      <td>2006-10-01</td>\n",
       "      <td></td>\n",
       "      <td>Varejo</td>\n",
       "      <td>1</td>\n",
       "    </tr>\n",
       "  </tbody>\n",
       "</table>\n",
       "</div>"
      ],
      "text/plain": [
       "   STORE_CODE       DATE  SALES_VALUE  SALES_QTY STORE_NAME  START_DATE  \\\n",
       "0           1 2014-11-23    111387.87       7227  Sao Paulo  2006-10-01   \n",
       "\n",
       "  END_DATE BUSINESS_NAME  BUSINESS_CODE  \n",
       "0                 Varejo              1  "
      ]
     },
     "execution_count": 22,
     "metadata": {},
     "output_type": "execute_result"
    }
   ],
   "source": [
    "merge.head(1)"
   ]
  },
  {
   "cell_type": "code",
   "execution_count": 23,
   "id": "0af5fa66",
   "metadata": {},
   "outputs": [
    {
     "name": "stdout",
     "output_type": "stream",
     "text": [
      "<class 'pandas.core.frame.DataFrame'>\n",
      "Int64Index: 35762 entries, 0 to 35761\n",
      "Data columns (total 9 columns):\n",
      " #   Column         Non-Null Count  Dtype         \n",
      "---  ------         --------------  -----         \n",
      " 0   STORE_CODE     35762 non-null  int64         \n",
      " 1   DATE           35762 non-null  datetime64[ns]\n",
      " 2   SALES_VALUE    35762 non-null  float64       \n",
      " 3   SALES_QTY      35762 non-null  int64         \n",
      " 4   STORE_NAME     35762 non-null  object        \n",
      " 5   START_DATE     35762 non-null  object        \n",
      " 6   END_DATE       35762 non-null  object        \n",
      " 7   BUSINESS_NAME  35762 non-null  object        \n",
      " 8   BUSINESS_CODE  35762 non-null  int64         \n",
      "dtypes: datetime64[ns](1), float64(1), int64(3), object(4)\n",
      "memory usage: 2.7+ MB\n"
     ]
    }
   ],
   "source": [
    "merge.info()"
   ]
  },
  {
   "cell_type": "code",
   "execution_count": 24,
   "id": "c8cbb6ad",
   "metadata": {},
   "outputs": [],
   "source": [
    "merge = merge[(merge['DATE'] >= '2019-01-01') & (merge['DATE'] <= '2019-03-31')]"
   ]
  },
  {
   "cell_type": "code",
   "execution_count": 25,
   "id": "26bfeaf9",
   "metadata": {},
   "outputs": [],
   "source": [
    "merge = merge.loc[:,['SALES_VALUE','BUSINESS_NAME']]"
   ]
  },
  {
   "cell_type": "code",
   "execution_count": 26,
   "id": "26e7deb7",
   "metadata": {},
   "outputs": [
    {
     "data": {
      "text/html": [
       "<div>\n",
       "<style scoped>\n",
       "    .dataframe tbody tr th:only-of-type {\n",
       "        vertical-align: middle;\n",
       "    }\n",
       "\n",
       "    .dataframe tbody tr th {\n",
       "        vertical-align: top;\n",
       "    }\n",
       "\n",
       "    .dataframe thead th {\n",
       "        text-align: right;\n",
       "    }\n",
       "</style>\n",
       "<table border=\"1\" class=\"dataframe\">\n",
       "  <thead>\n",
       "    <tr style=\"text-align: right;\">\n",
       "      <th></th>\n",
       "      <th>SALES_VALUE</th>\n",
       "      <th>BUSINESS_NAME</th>\n",
       "    </tr>\n",
       "  </thead>\n",
       "  <tbody>\n",
       "    <tr>\n",
       "      <th>1498</th>\n",
       "      <td>196623.22</td>\n",
       "      <td>Varejo</td>\n",
       "    </tr>\n",
       "    <tr>\n",
       "      <th>1499</th>\n",
       "      <td>307504.48</td>\n",
       "      <td>Varejo</td>\n",
       "    </tr>\n",
       "    <tr>\n",
       "      <th>1500</th>\n",
       "      <td>274842.91</td>\n",
       "      <td>Varejo</td>\n",
       "    </tr>\n",
       "    <tr>\n",
       "      <th>1501</th>\n",
       "      <td>242439.39</td>\n",
       "      <td>Varejo</td>\n",
       "    </tr>\n",
       "    <tr>\n",
       "      <th>1502</th>\n",
       "      <td>205547.18</td>\n",
       "      <td>Varejo</td>\n",
       "    </tr>\n",
       "    <tr>\n",
       "      <th>...</th>\n",
       "      <td>...</td>\n",
       "      <td>...</td>\n",
       "    </tr>\n",
       "    <tr>\n",
       "      <th>35482</th>\n",
       "      <td>333019.68</td>\n",
       "      <td>Varejo</td>\n",
       "    </tr>\n",
       "    <tr>\n",
       "      <th>35483</th>\n",
       "      <td>267015.16</td>\n",
       "      <td>Varejo</td>\n",
       "    </tr>\n",
       "    <tr>\n",
       "      <th>35484</th>\n",
       "      <td>255481.16</td>\n",
       "      <td>Varejo</td>\n",
       "    </tr>\n",
       "    <tr>\n",
       "      <th>35485</th>\n",
       "      <td>216189.60</td>\n",
       "      <td>Varejo</td>\n",
       "    </tr>\n",
       "    <tr>\n",
       "      <th>35486</th>\n",
       "      <td>180359.82</td>\n",
       "      <td>Varejo</td>\n",
       "    </tr>\n",
       "  </tbody>\n",
       "</table>\n",
       "<p>1800 rows × 2 columns</p>\n",
       "</div>"
      ],
      "text/plain": [
       "       SALES_VALUE BUSINESS_NAME\n",
       "1498     196623.22        Varejo\n",
       "1499     307504.48        Varejo\n",
       "1500     274842.91        Varejo\n",
       "1501     242439.39        Varejo\n",
       "1502     205547.18        Varejo\n",
       "...            ...           ...\n",
       "35482    333019.68        Varejo\n",
       "35483    267015.16        Varejo\n",
       "35484    255481.16        Varejo\n",
       "35485    216189.60        Varejo\n",
       "35486    180359.82        Varejo\n",
       "\n",
       "[1800 rows x 2 columns]"
      ]
     },
     "execution_count": 26,
     "metadata": {},
     "output_type": "execute_result"
    }
   ],
   "source": [
    "merge"
   ]
  },
  {
   "cell_type": "code",
   "execution_count": 27,
   "id": "d8a50e80",
   "metadata": {},
   "outputs": [
    {
     "data": {
      "text/html": [
       "<div>\n",
       "<style scoped>\n",
       "    .dataframe tbody tr th:only-of-type {\n",
       "        vertical-align: middle;\n",
       "    }\n",
       "\n",
       "    .dataframe tbody tr th {\n",
       "        vertical-align: top;\n",
       "    }\n",
       "\n",
       "    .dataframe thead th {\n",
       "        text-align: right;\n",
       "    }\n",
       "</style>\n",
       "<table border=\"1\" class=\"dataframe\">\n",
       "  <thead>\n",
       "    <tr style=\"text-align: right;\">\n",
       "      <th></th>\n",
       "      <th>SALES_VALUE</th>\n",
       "    </tr>\n",
       "    <tr>\n",
       "      <th>BUSINESS_NAME</th>\n",
       "      <th></th>\n",
       "    </tr>\n",
       "  </thead>\n",
       "  <tbody>\n",
       "    <tr>\n",
       "      <th>Atacado</th>\n",
       "      <td>80384884.60</td>\n",
       "    </tr>\n",
       "    <tr>\n",
       "      <th>Farma</th>\n",
       "      <td>81776691.73</td>\n",
       "    </tr>\n",
       "    <tr>\n",
       "      <th>Posto</th>\n",
       "      <td>32072326.40</td>\n",
       "    </tr>\n",
       "    <tr>\n",
       "      <th>Proximidade</th>\n",
       "      <td>80171122.80</td>\n",
       "    </tr>\n",
       "    <tr>\n",
       "      <th>Varejo</th>\n",
       "      <td>81032347.65</td>\n",
       "    </tr>\n",
       "  </tbody>\n",
       "</table>\n",
       "</div>"
      ],
      "text/plain": [
       "               SALES_VALUE\n",
       "BUSINESS_NAME             \n",
       "Atacado        80384884.60\n",
       "Farma          81776691.73\n",
       "Posto          32072326.40\n",
       "Proximidade    80171122.80\n",
       "Varejo         81032347.65"
      ]
     },
     "execution_count": 27,
     "metadata": {},
     "output_type": "execute_result"
    }
   ],
   "source": [
    "merge.groupby(['BUSINESS_NAME']).sum()"
   ]
  },
  {
   "cell_type": "markdown",
   "id": "db594f44",
   "metadata": {},
   "source": [
    "### Exploratory Data Analysis\n",
    "\n",
    "For a better vizualization, first we can use Exploratory Data Analysis(EDA), because it's examine the structure and configuration of data, in addition to learning about the relationship between variables in the database."
   ]
  },
  {
   "cell_type": "code",
   "execution_count": 28,
   "id": "c0345ce7",
   "metadata": {
    "scrolled": true
   },
   "outputs": [
    {
     "data": {
      "text/html": [
       "<div>\n",
       "<style scoped>\n",
       "    .dataframe tbody tr th:only-of-type {\n",
       "        vertical-align: middle;\n",
       "    }\n",
       "\n",
       "    .dataframe tbody tr th {\n",
       "        vertical-align: top;\n",
       "    }\n",
       "\n",
       "    .dataframe thead th {\n",
       "        text-align: right;\n",
       "    }\n",
       "</style>\n",
       "<table border=\"1\" class=\"dataframe\">\n",
       "  <thead>\n",
       "    <tr style=\"text-align: right;\">\n",
       "      <th></th>\n",
       "      <th>Id</th>\n",
       "      <th>Title</th>\n",
       "      <th>Genre</th>\n",
       "      <th>Director</th>\n",
       "      <th>Actors</th>\n",
       "      <th>Year</th>\n",
       "      <th>Runtime</th>\n",
       "      <th>Rating</th>\n",
       "      <th>Votes</th>\n",
       "      <th>RevenueMillions</th>\n",
       "      <th>Metascore</th>\n",
       "    </tr>\n",
       "  </thead>\n",
       "  <tbody>\n",
       "    <tr>\n",
       "      <th>0</th>\n",
       "      <td>1</td>\n",
       "      <td>Guardians of the Galaxy</td>\n",
       "      <td>Action,Adventure,Sci-Fi</td>\n",
       "      <td>James Gunn</td>\n",
       "      <td>Chris Pratt, Vin Diesel, Bradley Cooper, Zoe S...</td>\n",
       "      <td>2014</td>\n",
       "      <td>121</td>\n",
       "      <td>8.0</td>\n",
       "      <td>757074</td>\n",
       "      <td>333.0</td>\n",
       "      <td>76.0</td>\n",
       "    </tr>\n",
       "    <tr>\n",
       "      <th>1</th>\n",
       "      <td>2</td>\n",
       "      <td>Prometheus</td>\n",
       "      <td>Adventure,Mystery,Sci-Fi</td>\n",
       "      <td>Ridley Scott</td>\n",
       "      <td>Noomi Rapace, Logan Marshall-Green, Michael Fa...</td>\n",
       "      <td>2012</td>\n",
       "      <td>124</td>\n",
       "      <td>7.0</td>\n",
       "      <td>485820</td>\n",
       "      <td>126.0</td>\n",
       "      <td>65.0</td>\n",
       "    </tr>\n",
       "    <tr>\n",
       "      <th>2</th>\n",
       "      <td>3</td>\n",
       "      <td>Split</td>\n",
       "      <td>Horror,Thriller</td>\n",
       "      <td>M. Night Shyamalan</td>\n",
       "      <td>James McAvoy, Anya Taylor-Joy, Haley Lu Richar...</td>\n",
       "      <td>2016</td>\n",
       "      <td>117</td>\n",
       "      <td>7.0</td>\n",
       "      <td>157606</td>\n",
       "      <td>138.0</td>\n",
       "      <td>62.0</td>\n",
       "    </tr>\n",
       "  </tbody>\n",
       "</table>\n",
       "</div>"
      ],
      "text/plain": [
       "   Id                    Title                     Genre            Director  \\\n",
       "0   1  Guardians of the Galaxy   Action,Adventure,Sci-Fi          James Gunn   \n",
       "1   2               Prometheus  Adventure,Mystery,Sci-Fi        Ridley Scott   \n",
       "2   3                    Split           Horror,Thriller  M. Night Shyamalan   \n",
       "\n",
       "                                              Actors  Year  Runtime  Rating  \\\n",
       "0  Chris Pratt, Vin Diesel, Bradley Cooper, Zoe S...  2014      121     8.0   \n",
       "1  Noomi Rapace, Logan Marshall-Green, Michael Fa...  2012      124     7.0   \n",
       "2  James McAvoy, Anya Taylor-Joy, Haley Lu Richar...  2016      117     7.0   \n",
       "\n",
       "    Votes  RevenueMillions  Metascore  \n",
       "0  757074            333.0       76.0  \n",
       "1  485820            126.0       65.0  \n",
       "2  157606            138.0       62.0  "
      ]
     },
     "execution_count": 28,
     "metadata": {},
     "output_type": "execute_result"
    }
   ],
   "source": [
    "IMDB_movies = read('IMDB_movies')\n",
    "IMDB_movies.head(3)"
   ]
  },
  {
   "cell_type": "code",
   "execution_count": 29,
   "id": "3cfcfb23",
   "metadata": {},
   "outputs": [
    {
     "name": "stdout",
     "output_type": "stream",
     "text": [
      "<class 'pandas.core.frame.DataFrame'>\n",
      "RangeIndex: 1000 entries, 0 to 999\n",
      "Data columns (total 11 columns):\n",
      " #   Column           Non-Null Count  Dtype  \n",
      "---  ------           --------------  -----  \n",
      " 0   Id               1000 non-null   int64  \n",
      " 1   Title            1000 non-null   object \n",
      " 2   Genre            1000 non-null   object \n",
      " 3   Director         1000 non-null   object \n",
      " 4   Actors           1000 non-null   object \n",
      " 5   Year             1000 non-null   int64  \n",
      " 6   Runtime          1000 non-null   int64  \n",
      " 7   Rating           1000 non-null   float64\n",
      " 8   Votes            1000 non-null   int64  \n",
      " 9   RevenueMillions  872 non-null    float64\n",
      " 10  Metascore        936 non-null    float64\n",
      "dtypes: float64(3), int64(4), object(4)\n",
      "memory usage: 86.1+ KB\n"
     ]
    }
   ],
   "source": [
    "IMDB_movies.info()\n",
    "#Question 1. The rating column represents the Rating by IMDB. Metascore represents another website rating.\n",
    "#Correlation?"
   ]
  },
  {
   "cell_type": "code",
   "execution_count": 30,
   "id": "0824d112",
   "metadata": {},
   "outputs": [
    {
     "data": {
      "text/plain": [
       "0      7.6\n",
       "1      6.5\n",
       "2      6.2\n",
       "3      5.9\n",
       "4      4.0\n",
       "      ... \n",
       "995    4.5\n",
       "996    4.6\n",
       "997    5.0\n",
       "998    2.2\n",
       "999    1.1\n",
       "Name: Metascore, Length: 1000, dtype: float64"
      ]
     },
     "execution_count": 30,
     "metadata": {},
     "output_type": "execute_result"
    }
   ],
   "source": [
    "#What about if we change the scale of Metascore Rating ?\n",
    "IMDB_movies.Metascore = IMDB_movies.Metascore/10\n",
    "IMDB_movies.Metascore"
   ]
  },
  {
   "cell_type": "code",
   "execution_count": 31,
   "id": "c0e7f64c",
   "metadata": {},
   "outputs": [
    {
     "data": {
      "text/html": [
       "<div>\n",
       "<style scoped>\n",
       "    .dataframe tbody tr th:only-of-type {\n",
       "        vertical-align: middle;\n",
       "    }\n",
       "\n",
       "    .dataframe tbody tr th {\n",
       "        vertical-align: top;\n",
       "    }\n",
       "\n",
       "    .dataframe thead th {\n",
       "        text-align: right;\n",
       "    }\n",
       "</style>\n",
       "<table border=\"1\" class=\"dataframe\">\n",
       "  <thead>\n",
       "    <tr style=\"text-align: right;\">\n",
       "      <th></th>\n",
       "      <th>Id</th>\n",
       "      <th>Title</th>\n",
       "      <th>Genre</th>\n",
       "      <th>Director</th>\n",
       "      <th>Actors</th>\n",
       "      <th>Year</th>\n",
       "      <th>Runtime</th>\n",
       "      <th>Rating</th>\n",
       "      <th>Votes</th>\n",
       "      <th>RevenueMillions</th>\n",
       "      <th>Metascore</th>\n",
       "    </tr>\n",
       "  </thead>\n",
       "  <tbody>\n",
       "  </tbody>\n",
       "</table>\n",
       "</div>"
      ],
      "text/plain": [
       "Empty DataFrame\n",
       "Columns: [Id, Title, Genre, Director, Actors, Year, Runtime, Rating, Votes, RevenueMillions, Metascore]\n",
       "Index: []"
      ]
     },
     "execution_count": 31,
     "metadata": {},
     "output_type": "execute_result"
    }
   ],
   "source": [
    "#Checking for Duplicate Data in Key Columns\n",
    "dup_col = ['Id', 'Title']\n",
    "IMDB_movies[IMDB_movies.duplicated(dup_col)]\n"
   ]
  },
  {
   "cell_type": "code",
   "execution_count": 32,
   "id": "61b9ca0a",
   "metadata": {},
   "outputs": [
    {
     "data": {
      "text/plain": [
       "Id                   0\n",
       "Title                0\n",
       "Genre                0\n",
       "Director             0\n",
       "Actors               0\n",
       "Year                 0\n",
       "Runtime              0\n",
       "Rating               0\n",
       "Votes                0\n",
       "RevenueMillions    128\n",
       "Metascore           64\n",
       "dtype: int64"
      ]
     },
     "execution_count": 32,
     "metadata": {},
     "output_type": "execute_result"
    }
   ],
   "source": [
    "#Ok. There is no duplicates date. But we will check for missing data.\n",
    "IMDB_movies.isna().sum()"
   ]
  },
  {
   "cell_type": "code",
   "execution_count": 33,
   "id": "52f75e06",
   "metadata": {},
   "outputs": [
    {
     "data": {
      "text/html": [
       "<div>\n",
       "<style scoped>\n",
       "    .dataframe tbody tr th:only-of-type {\n",
       "        vertical-align: middle;\n",
       "    }\n",
       "\n",
       "    .dataframe tbody tr th {\n",
       "        vertical-align: top;\n",
       "    }\n",
       "\n",
       "    .dataframe thead th {\n",
       "        text-align: right;\n",
       "    }\n",
       "</style>\n",
       "<table border=\"1\" class=\"dataframe\">\n",
       "  <thead>\n",
       "    <tr style=\"text-align: right;\">\n",
       "      <th></th>\n",
       "      <th>Id</th>\n",
       "      <th>Title</th>\n",
       "      <th>Genre</th>\n",
       "      <th>Director</th>\n",
       "      <th>Actors</th>\n",
       "      <th>Year</th>\n",
       "      <th>Runtime</th>\n",
       "      <th>Rating</th>\n",
       "      <th>Votes</th>\n",
       "      <th>RevenueMillions</th>\n",
       "      <th>Metascore</th>\n",
       "    </tr>\n",
       "  </thead>\n",
       "  <tbody>\n",
       "    <tr>\n",
       "      <th>7</th>\n",
       "      <td>8</td>\n",
       "      <td>Mindhorn</td>\n",
       "      <td>Comedy</td>\n",
       "      <td>Sean Foley</td>\n",
       "      <td>Essie Davis, Andrea Riseborough, Julian Barrat...</td>\n",
       "      <td>2016</td>\n",
       "      <td>89</td>\n",
       "      <td>6.0</td>\n",
       "      <td>2490</td>\n",
       "      <td>NaN</td>\n",
       "      <td>7.1</td>\n",
       "    </tr>\n",
       "    <tr>\n",
       "      <th>22</th>\n",
       "      <td>23</td>\n",
       "      <td>Hounds of Love</td>\n",
       "      <td>Crime,Drama,Horror</td>\n",
       "      <td>Ben Young</td>\n",
       "      <td>Emma Booth, Ashleigh Cummings, Stephen Curry,S...</td>\n",
       "      <td>2016</td>\n",
       "      <td>108</td>\n",
       "      <td>7.0</td>\n",
       "      <td>1115</td>\n",
       "      <td>NaN</td>\n",
       "      <td>7.2</td>\n",
       "    </tr>\n",
       "    <tr>\n",
       "      <th>25</th>\n",
       "      <td>26</td>\n",
       "      <td>Paris pieds nus</td>\n",
       "      <td>Comedy</td>\n",
       "      <td>Dominique Abel</td>\n",
       "      <td>Fiona Gordon, Dominique Abel,Emmanuelle Riva, ...</td>\n",
       "      <td>2016</td>\n",
       "      <td>83</td>\n",
       "      <td>7.0</td>\n",
       "      <td>222</td>\n",
       "      <td>NaN</td>\n",
       "      <td>NaN</td>\n",
       "    </tr>\n",
       "    <tr>\n",
       "      <th>39</th>\n",
       "      <td>40</td>\n",
       "      <td>5- 25- 77</td>\n",
       "      <td>Comedy,Drama</td>\n",
       "      <td>Patrick Read Johnson</td>\n",
       "      <td>John Francis Daley, Austin Pendleton, Colleen ...</td>\n",
       "      <td>2007</td>\n",
       "      <td>113</td>\n",
       "      <td>7.0</td>\n",
       "      <td>241</td>\n",
       "      <td>NaN</td>\n",
       "      <td>NaN</td>\n",
       "    </tr>\n",
       "    <tr>\n",
       "      <th>42</th>\n",
       "      <td>43</td>\n",
       "      <td>Don't Fuck in the Woods</td>\n",
       "      <td>Horror</td>\n",
       "      <td>Shawn Burkett</td>\n",
       "      <td>Brittany Blanton, Ayse Howard, Roman Jossart,N...</td>\n",
       "      <td>2016</td>\n",
       "      <td>73</td>\n",
       "      <td>3.0</td>\n",
       "      <td>496</td>\n",
       "      <td>NaN</td>\n",
       "      <td>NaN</td>\n",
       "    </tr>\n",
       "    <tr>\n",
       "      <th>47</th>\n",
       "      <td>48</td>\n",
       "      <td>Fallen</td>\n",
       "      <td>Adventure,Drama,Fantasy</td>\n",
       "      <td>Scott Hicks</td>\n",
       "      <td>Hermione Corfield, Addison Timlin, Joely Richa...</td>\n",
       "      <td>2016</td>\n",
       "      <td>91</td>\n",
       "      <td>6.0</td>\n",
       "      <td>5103</td>\n",
       "      <td>NaN</td>\n",
       "      <td>NaN</td>\n",
       "    </tr>\n",
       "    <tr>\n",
       "      <th>49</th>\n",
       "      <td>50</td>\n",
       "      <td>The Last Face</td>\n",
       "      <td>Drama</td>\n",
       "      <td>Sean Penn</td>\n",
       "      <td>Charlize Theron, Javier Bardem, Adèle Exarchop...</td>\n",
       "      <td>2016</td>\n",
       "      <td>130</td>\n",
       "      <td>4.0</td>\n",
       "      <td>987</td>\n",
       "      <td>NaN</td>\n",
       "      <td>1.6</td>\n",
       "    </tr>\n",
       "    <tr>\n",
       "      <th>61</th>\n",
       "      <td>62</td>\n",
       "      <td>The Autopsy of Jane Doe</td>\n",
       "      <td>Horror,Mystery,Thriller</td>\n",
       "      <td>André Øvredal</td>\n",
       "      <td>Brian Cox, Emile Hirsch, Ophelia Lovibond, Mic...</td>\n",
       "      <td>2016</td>\n",
       "      <td>86</td>\n",
       "      <td>7.0</td>\n",
       "      <td>35870</td>\n",
       "      <td>NaN</td>\n",
       "      <td>6.5</td>\n",
       "    </tr>\n",
       "    <tr>\n",
       "      <th>70</th>\n",
       "      <td>71</td>\n",
       "      <td>The Promise</td>\n",
       "      <td>Drama,History</td>\n",
       "      <td>Terry George</td>\n",
       "      <td>Oscar Isaac, Charlotte Le Bon, Christian Bale,...</td>\n",
       "      <td>2016</td>\n",
       "      <td>133</td>\n",
       "      <td>6.0</td>\n",
       "      <td>149791</td>\n",
       "      <td>NaN</td>\n",
       "      <td>4.9</td>\n",
       "    </tr>\n",
       "    <tr>\n",
       "      <th>103</th>\n",
       "      <td>104</td>\n",
       "      <td>Contratiempo</td>\n",
       "      <td>Crime,Mystery,Thriller</td>\n",
       "      <td>Oriol Paulo</td>\n",
       "      <td>Mario Casas, Ana Wagener, José Coronado, Bárba...</td>\n",
       "      <td>2016</td>\n",
       "      <td>106</td>\n",
       "      <td>8.0</td>\n",
       "      <td>7204</td>\n",
       "      <td>NaN</td>\n",
       "      <td>NaN</td>\n",
       "    </tr>\n",
       "  </tbody>\n",
       "</table>\n",
       "</div>"
      ],
      "text/plain": [
       "      Id                    Title                    Genre  \\\n",
       "7      8                 Mindhorn                   Comedy   \n",
       "22    23           Hounds of Love       Crime,Drama,Horror   \n",
       "25    26          Paris pieds nus                   Comedy   \n",
       "39    40                5- 25- 77             Comedy,Drama   \n",
       "42    43  Don't Fuck in the Woods                   Horror   \n",
       "47    48                   Fallen  Adventure,Drama,Fantasy   \n",
       "49    50            The Last Face                    Drama   \n",
       "61    62  The Autopsy of Jane Doe  Horror,Mystery,Thriller   \n",
       "70    71              The Promise            Drama,History   \n",
       "103  104             Contratiempo   Crime,Mystery,Thriller   \n",
       "\n",
       "                 Director                                             Actors  \\\n",
       "7              Sean Foley  Essie Davis, Andrea Riseborough, Julian Barrat...   \n",
       "22              Ben Young  Emma Booth, Ashleigh Cummings, Stephen Curry,S...   \n",
       "25         Dominique Abel  Fiona Gordon, Dominique Abel,Emmanuelle Riva, ...   \n",
       "39   Patrick Read Johnson  John Francis Daley, Austin Pendleton, Colleen ...   \n",
       "42          Shawn Burkett  Brittany Blanton, Ayse Howard, Roman Jossart,N...   \n",
       "47            Scott Hicks  Hermione Corfield, Addison Timlin, Joely Richa...   \n",
       "49              Sean Penn  Charlize Theron, Javier Bardem, Adèle Exarchop...   \n",
       "61          André Øvredal  Brian Cox, Emile Hirsch, Ophelia Lovibond, Mic...   \n",
       "70           Terry George  Oscar Isaac, Charlotte Le Bon, Christian Bale,...   \n",
       "103           Oriol Paulo  Mario Casas, Ana Wagener, José Coronado, Bárba...   \n",
       "\n",
       "     Year  Runtime  Rating   Votes  RevenueMillions  Metascore  \n",
       "7    2016       89     6.0    2490              NaN        7.1  \n",
       "22   2016      108     7.0    1115              NaN        7.2  \n",
       "25   2016       83     7.0     222              NaN        NaN  \n",
       "39   2007      113     7.0     241              NaN        NaN  \n",
       "42   2016       73     3.0     496              NaN        NaN  \n",
       "47   2016       91     6.0    5103              NaN        NaN  \n",
       "49   2016      130     4.0     987              NaN        1.6  \n",
       "61   2016       86     7.0   35870              NaN        6.5  \n",
       "70   2016      133     6.0  149791              NaN        4.9  \n",
       "103  2016      106     8.0    7204              NaN        NaN  "
      ]
     },
     "execution_count": 33,
     "metadata": {},
     "output_type": "execute_result"
    }
   ],
   "source": [
    "#So, we can check the rows that have missing 'Revenue Millions' attribute.\n",
    "IMDB_movies[IMDB_movies.RevenueMillions.isna()].head(10)"
   ]
  },
  {
   "cell_type": "code",
   "execution_count": 34,
   "id": "563489d9",
   "metadata": {},
   "outputs": [],
   "source": [
    "#So, We can use fillna method to replace NaN to 0, but it seems that will bias the data.\n",
    "#So, let's drop all rows with NaN values.\n",
    "IMDB_movies = IMDB_movies.dropna()"
   ]
  },
  {
   "cell_type": "code",
   "execution_count": 35,
   "id": "36185a82",
   "metadata": {
    "scrolled": true
   },
   "outputs": [
    {
     "data": {
      "text/plain": [
       "0      7.80\n",
       "1      6.75\n",
       "2      6.60\n",
       "3      6.45\n",
       "4      5.00\n",
       "       ... \n",
       "993    4.85\n",
       "994    5.90\n",
       "996    5.30\n",
       "997    5.50\n",
       "999    3.05\n",
       "Name: Avg_rating, Length: 838, dtype: float64"
      ]
     },
     "execution_count": 35,
     "metadata": {},
     "output_type": "execute_result"
    }
   ],
   "source": [
    "#Creating \n",
    "IMDB_movies['Avg_rating']=IMDB_movies[['Metascore','Rating']].mean(axis=1)\n",
    "IMDB_movies['Avg_rating']"
   ]
  },
  {
   "cell_type": "code",
   "execution_count": 36,
   "id": "d5bcfc25",
   "metadata": {
    "scrolled": false
   },
   "outputs": [
    {
     "data": {
      "text/plain": [
       "Action,Adventure,Sci-Fi     50\n",
       "Comedy,Drama,Romance        30\n",
       "Drama                       29\n",
       "Drama,Romance               27\n",
       "Comedy                      26\n",
       "                            ..\n",
       "Adventure,Comedy,Fantasy     1\n",
       "Horror,Mystery,Sci-Fi        1\n",
       "Action,Thriller,War          1\n",
       "Action,Comedy,Sport          1\n",
       "Action,Horror,Romance        1\n",
       "Name: Genre, Length: 189, dtype: int64"
      ]
     },
     "execution_count": 36,
     "metadata": {},
     "output_type": "execute_result"
    }
   ],
   "source": [
    "IMDB_movies['Genre'].value_counts()\n",
    "#and if i take only the first word before the comma?"
   ]
  },
  {
   "cell_type": "code",
   "execution_count": 37,
   "id": "c677c308",
   "metadata": {},
   "outputs": [],
   "source": [
    "IMDB_movies['First Genre'] = IMDB_movies['Genre'].str.split(',').str[0]\n",
    "IMDB_movies['Second Genre'] = IMDB_movies['Genre'].str.split(',').str[1]\n",
    "IMDB_movies['Third Genre'] = IMDB_movies['Genre'].str.split(',').str[2]"
   ]
  },
  {
   "cell_type": "code",
   "execution_count": 50,
   "id": "adbae78b",
   "metadata": {},
   "outputs": [
    {
     "data": {
      "text/html": [
       "<div>\n",
       "<style scoped>\n",
       "    .dataframe tbody tr th:only-of-type {\n",
       "        vertical-align: middle;\n",
       "    }\n",
       "\n",
       "    .dataframe tbody tr th {\n",
       "        vertical-align: top;\n",
       "    }\n",
       "\n",
       "    .dataframe thead th {\n",
       "        text-align: right;\n",
       "    }\n",
       "</style>\n",
       "<table border=\"1\" class=\"dataframe\">\n",
       "  <thead>\n",
       "    <tr style=\"text-align: right;\">\n",
       "      <th></th>\n",
       "      <th>First Genre</th>\n",
       "      <th>Second Genre</th>\n",
       "      <th>Third Genre</th>\n",
       "      <th>Votes</th>\n",
       "      <th>RevenueMillions</th>\n",
       "    </tr>\n",
       "  </thead>\n",
       "  <tbody>\n",
       "    <tr>\n",
       "      <th>0</th>\n",
       "      <td>Action</td>\n",
       "      <td>Adventure</td>\n",
       "      <td>Sci-Fi</td>\n",
       "      <td>757074</td>\n",
       "      <td>333.0</td>\n",
       "    </tr>\n",
       "    <tr>\n",
       "      <th>1</th>\n",
       "      <td>Adventure</td>\n",
       "      <td>Mystery</td>\n",
       "      <td>Sci-Fi</td>\n",
       "      <td>485820</td>\n",
       "      <td>126.0</td>\n",
       "    </tr>\n",
       "    <tr>\n",
       "      <th>2</th>\n",
       "      <td>Horror</td>\n",
       "      <td>Thriller</td>\n",
       "      <td>NaN</td>\n",
       "      <td>157606</td>\n",
       "      <td>138.0</td>\n",
       "    </tr>\n",
       "    <tr>\n",
       "      <th>3</th>\n",
       "      <td>Animation</td>\n",
       "      <td>Comedy</td>\n",
       "      <td>Family</td>\n",
       "      <td>60545</td>\n",
       "      <td>270.0</td>\n",
       "    </tr>\n",
       "    <tr>\n",
       "      <th>4</th>\n",
       "      <td>Action</td>\n",
       "      <td>Adventure</td>\n",
       "      <td>Fantasy</td>\n",
       "      <td>393727</td>\n",
       "      <td>325.0</td>\n",
       "    </tr>\n",
       "    <tr>\n",
       "      <th>...</th>\n",
       "      <td>...</td>\n",
       "      <td>...</td>\n",
       "      <td>...</td>\n",
       "      <td>...</td>\n",
       "      <td>...</td>\n",
       "    </tr>\n",
       "    <tr>\n",
       "      <th>993</th>\n",
       "      <td>Action</td>\n",
       "      <td>Adventure</td>\n",
       "      <td>Horror</td>\n",
       "      <td>140900</td>\n",
       "      <td>60.0</td>\n",
       "    </tr>\n",
       "    <tr>\n",
       "      <th>994</th>\n",
       "      <td>Comedy</td>\n",
       "      <td>NaN</td>\n",
       "      <td>NaN</td>\n",
       "      <td>164088</td>\n",
       "      <td>55.0</td>\n",
       "    </tr>\n",
       "    <tr>\n",
       "      <th>996</th>\n",
       "      <td>Horror</td>\n",
       "      <td>NaN</td>\n",
       "      <td>NaN</td>\n",
       "      <td>73152</td>\n",
       "      <td>18.0</td>\n",
       "    </tr>\n",
       "    <tr>\n",
       "      <th>997</th>\n",
       "      <td>Drama</td>\n",
       "      <td>Music</td>\n",
       "      <td>Romance</td>\n",
       "      <td>70699</td>\n",
       "      <td>58.0</td>\n",
       "    </tr>\n",
       "    <tr>\n",
       "      <th>999</th>\n",
       "      <td>Comedy</td>\n",
       "      <td>Family</td>\n",
       "      <td>Fantasy</td>\n",
       "      <td>12435</td>\n",
       "      <td>20.0</td>\n",
       "    </tr>\n",
       "  </tbody>\n",
       "</table>\n",
       "<p>838 rows × 5 columns</p>\n",
       "</div>"
      ],
      "text/plain": [
       "    First Genre Second Genre Third Genre   Votes  RevenueMillions\n",
       "0        Action    Adventure      Sci-Fi  757074            333.0\n",
       "1     Adventure      Mystery      Sci-Fi  485820            126.0\n",
       "2        Horror     Thriller         NaN  157606            138.0\n",
       "3     Animation       Comedy      Family   60545            270.0\n",
       "4        Action    Adventure     Fantasy  393727            325.0\n",
       "..          ...          ...         ...     ...              ...\n",
       "993      Action    Adventure      Horror  140900             60.0\n",
       "994      Comedy          NaN         NaN  164088             55.0\n",
       "996      Horror          NaN         NaN   73152             18.0\n",
       "997       Drama        Music     Romance   70699             58.0\n",
       "999      Comedy       Family     Fantasy   12435             20.0\n",
       "\n",
       "[838 rows x 5 columns]"
      ]
     },
     "execution_count": 50,
     "metadata": {},
     "output_type": "execute_result"
    }
   ],
   "source": [
    "IMDB_genre = IMDB_movies[['First Genre','Second Genre','Third Genre','Votes','RevenueMillions']]\n",
    "IMDB_genre"
   ]
  },
  {
   "cell_type": "code",
   "execution_count": 51,
   "id": "65d76eb8",
   "metadata": {},
   "outputs": [],
   "source": [
    "IMDB_genre1=IMDB_genre.groupby('First Genre').sum()\n",
    "IMDB_genre2=IMDB_genre.groupby('Second Genre').sum()\n",
    "IMDB_genre3=IMDB_genre.groupby('Third Genre').sum()"
   ]
  },
  {
   "cell_type": "code",
   "execution_count": 53,
   "id": "fd0735fd",
   "metadata": {},
   "outputs": [
    {
     "data": {
      "text/html": [
       "<div>\n",
       "<style scoped>\n",
       "    .dataframe tbody tr th:only-of-type {\n",
       "        vertical-align: middle;\n",
       "    }\n",
       "\n",
       "    .dataframe tbody tr th {\n",
       "        vertical-align: top;\n",
       "    }\n",
       "\n",
       "    .dataframe thead th {\n",
       "        text-align: right;\n",
       "    }\n",
       "</style>\n",
       "<table border=\"1\" class=\"dataframe\">\n",
       "  <thead>\n",
       "    <tr style=\"text-align: right;\">\n",
       "      <th></th>\n",
       "      <th>Genre</th>\n",
       "      <th>Votes</th>\n",
       "      <th>RevenueMillions</th>\n",
       "    </tr>\n",
       "  </thead>\n",
       "  <tbody>\n",
       "    <tr>\n",
       "      <th>0</th>\n",
       "      <td>Action</td>\n",
       "      <td>69397693.0</td>\n",
       "      <td>35205.0</td>\n",
       "    </tr>\n",
       "    <tr>\n",
       "      <th>1</th>\n",
       "      <td>Adventure</td>\n",
       "      <td>65025483.0</td>\n",
       "      <td>38340.0</td>\n",
       "    </tr>\n",
       "    <tr>\n",
       "      <th>2</th>\n",
       "      <td>Animation</td>\n",
       "      <td>9359984.0</td>\n",
       "      <td>8653.0</td>\n",
       "    </tr>\n",
       "    <tr>\n",
       "      <th>3</th>\n",
       "      <td>Biography</td>\n",
       "      <td>11726607.0</td>\n",
       "      <td>3957.0</td>\n",
       "    </tr>\n",
       "    <tr>\n",
       "      <th>4</th>\n",
       "      <td>Comedy</td>\n",
       "      <td>38747908.0</td>\n",
       "      <td>19230.0</td>\n",
       "    </tr>\n",
       "    <tr>\n",
       "      <th>5</th>\n",
       "      <td>Crime</td>\n",
       "      <td>25781815.0</td>\n",
       "      <td>8020.0</td>\n",
       "    </tr>\n",
       "    <tr>\n",
       "      <th>6</th>\n",
       "      <td>Drama</td>\n",
       "      <td>70364597.0</td>\n",
       "      <td>21244.0</td>\n",
       "    </tr>\n",
       "    <tr>\n",
       "      <th>7</th>\n",
       "      <td>Family</td>\n",
       "      <td>6415641.0</td>\n",
       "      <td>5959.0</td>\n",
       "    </tr>\n",
       "    <tr>\n",
       "      <th>8</th>\n",
       "      <td>Fantasy</td>\n",
       "      <td>21339758.0</td>\n",
       "      <td>12236.0</td>\n",
       "    </tr>\n",
       "    <tr>\n",
       "      <th>9</th>\n",
       "      <td>History</td>\n",
       "      <td>3966950.0</td>\n",
       "      <td>1325.0</td>\n",
       "    </tr>\n",
       "    <tr>\n",
       "      <th>10</th>\n",
       "      <td>Horror</td>\n",
       "      <td>9515472.0</td>\n",
       "      <td>3253.0</td>\n",
       "    </tr>\n",
       "    <tr>\n",
       "      <th>11</th>\n",
       "      <td>Music</td>\n",
       "      <td>1836463.0</td>\n",
       "      <td>705.0</td>\n",
       "    </tr>\n",
       "    <tr>\n",
       "      <th>12</th>\n",
       "      <td>Musical</td>\n",
       "      <td>866881.0</td>\n",
       "      <td>409.0</td>\n",
       "    </tr>\n",
       "    <tr>\n",
       "      <th>13</th>\n",
       "      <td>Mystery</td>\n",
       "      <td>17949274.0</td>\n",
       "      <td>4686.0</td>\n",
       "    </tr>\n",
       "    <tr>\n",
       "      <th>14</th>\n",
       "      <td>Romance</td>\n",
       "      <td>16113293.0</td>\n",
       "      <td>5151.0</td>\n",
       "    </tr>\n",
       "    <tr>\n",
       "      <th>15</th>\n",
       "      <td>Sci-Fi</td>\n",
       "      <td>34016514.0</td>\n",
       "      <td>14710.0</td>\n",
       "    </tr>\n",
       "    <tr>\n",
       "      <th>16</th>\n",
       "      <td>Sport</td>\n",
       "      <td>1998161.0</td>\n",
       "      <td>1007.0</td>\n",
       "    </tr>\n",
       "    <tr>\n",
       "      <th>17</th>\n",
       "      <td>Thriller</td>\n",
       "      <td>29585170.0</td>\n",
       "      <td>10468.0</td>\n",
       "    </tr>\n",
       "    <tr>\n",
       "      <th>18</th>\n",
       "      <td>War</td>\n",
       "      <td>2925910.0</td>\n",
       "      <td>537.0</td>\n",
       "    </tr>\n",
       "    <tr>\n",
       "      <th>19</th>\n",
       "      <td>Western</td>\n",
       "      <td>1561651.0</td>\n",
       "      <td>470.0</td>\n",
       "    </tr>\n",
       "  </tbody>\n",
       "</table>\n",
       "</div>"
      ],
      "text/plain": [
       "        Genre       Votes  RevenueMillions\n",
       "0      Action  69397693.0          35205.0\n",
       "1   Adventure  65025483.0          38340.0\n",
       "2   Animation   9359984.0           8653.0\n",
       "3   Biography  11726607.0           3957.0\n",
       "4      Comedy  38747908.0          19230.0\n",
       "5       Crime  25781815.0           8020.0\n",
       "6       Drama  70364597.0          21244.0\n",
       "7      Family   6415641.0           5959.0\n",
       "8     Fantasy  21339758.0          12236.0\n",
       "9     History   3966950.0           1325.0\n",
       "10     Horror   9515472.0           3253.0\n",
       "11      Music   1836463.0            705.0\n",
       "12    Musical    866881.0            409.0\n",
       "13    Mystery  17949274.0           4686.0\n",
       "14    Romance  16113293.0           5151.0\n",
       "15     Sci-Fi  34016514.0          14710.0\n",
       "16      Sport   1998161.0           1007.0\n",
       "17   Thriller  29585170.0          10468.0\n",
       "18        War   2925910.0            537.0\n",
       "19    Western   1561651.0            470.0"
      ]
     },
     "execution_count": 53,
     "metadata": {},
     "output_type": "execute_result"
    }
   ],
   "source": [
    "IMDB_genre_pivot=IMDB_genre1.add(IMDB_genre2, fill_value=0).add(IMDB_genre3,fill_value=0)\n",
    "IMDB_genre = IMDB_genre_pivot.rename_axis('Genre').reset_index()\n",
    "IMDB_genre"
   ]
  },
  {
   "cell_type": "code",
   "execution_count": 64,
   "id": "08238078",
   "metadata": {},
   "outputs": [
    {
     "data": {
      "text/html": [
       "<div>\n",
       "<style scoped>\n",
       "    .dataframe tbody tr th:only-of-type {\n",
       "        vertical-align: middle;\n",
       "    }\n",
       "\n",
       "    .dataframe tbody tr th {\n",
       "        vertical-align: top;\n",
       "    }\n",
       "\n",
       "    .dataframe thead th {\n",
       "        text-align: right;\n",
       "    }\n",
       "</style>\n",
       "<table border=\"1\" class=\"dataframe\">\n",
       "  <thead>\n",
       "    <tr style=\"text-align: right;\">\n",
       "      <th></th>\n",
       "      <th>Votes</th>\n",
       "      <th>RevenueMillions</th>\n",
       "    </tr>\n",
       "  </thead>\n",
       "  <tbody>\n",
       "    <tr>\n",
       "      <th>Votes</th>\n",
       "      <td>1.000000</td>\n",
       "      <td>0.936936</td>\n",
       "    </tr>\n",
       "    <tr>\n",
       "      <th>RevenueMillions</th>\n",
       "      <td>0.936936</td>\n",
       "      <td>1.000000</td>\n",
       "    </tr>\n",
       "  </tbody>\n",
       "</table>\n",
       "</div>"
      ],
      "text/plain": [
       "                    Votes  RevenueMillions\n",
       "Votes            1.000000         0.936936\n",
       "RevenueMillions  0.936936         1.000000"
      ]
     },
     "execution_count": 64,
     "metadata": {},
     "output_type": "execute_result"
    }
   ],
   "source": [
    "IMDB_genre.corr()"
   ]
  },
  {
   "cell_type": "code",
   "execution_count": 54,
   "id": "8dee2b10",
   "metadata": {
    "scrolled": true
   },
   "outputs": [
    {
     "data": {
      "text/html": [
       "<div>\n",
       "<style scoped>\n",
       "    .dataframe tbody tr th:only-of-type {\n",
       "        vertical-align: middle;\n",
       "    }\n",
       "\n",
       "    .dataframe tbody tr th {\n",
       "        vertical-align: top;\n",
       "    }\n",
       "\n",
       "    .dataframe thead th {\n",
       "        text-align: right;\n",
       "    }\n",
       "</style>\n",
       "<table border=\"1\" class=\"dataframe\">\n",
       "  <thead>\n",
       "    <tr style=\"text-align: right;\">\n",
       "      <th></th>\n",
       "      <th>Id</th>\n",
       "      <th>Title</th>\n",
       "      <th>Genre</th>\n",
       "      <th>Director</th>\n",
       "      <th>Actors</th>\n",
       "      <th>Year</th>\n",
       "      <th>Runtime</th>\n",
       "      <th>Rating</th>\n",
       "      <th>Votes</th>\n",
       "      <th>RevenueMillions</th>\n",
       "      <th>Metascore</th>\n",
       "      <th>Avg_rating</th>\n",
       "      <th>First Genre</th>\n",
       "      <th>Second Genre</th>\n",
       "      <th>Third Genre</th>\n",
       "    </tr>\n",
       "  </thead>\n",
       "  <tbody>\n",
       "    <tr>\n",
       "      <th>0</th>\n",
       "      <td>1</td>\n",
       "      <td>Guardians of the Galaxy</td>\n",
       "      <td>Action,Adventure,Sci-Fi</td>\n",
       "      <td>James Gunn</td>\n",
       "      <td>Chris Pratt, Vin Diesel, Bradley Cooper, Zoe S...</td>\n",
       "      <td>2014</td>\n",
       "      <td>121</td>\n",
       "      <td>8.0</td>\n",
       "      <td>757074</td>\n",
       "      <td>333.0</td>\n",
       "      <td>7.6</td>\n",
       "      <td>7.80</td>\n",
       "      <td>Action</td>\n",
       "      <td>Adventure</td>\n",
       "      <td>Sci-Fi</td>\n",
       "    </tr>\n",
       "    <tr>\n",
       "      <th>1</th>\n",
       "      <td>2</td>\n",
       "      <td>Prometheus</td>\n",
       "      <td>Adventure,Mystery,Sci-Fi</td>\n",
       "      <td>Ridley Scott</td>\n",
       "      <td>Noomi Rapace, Logan Marshall-Green, Michael Fa...</td>\n",
       "      <td>2012</td>\n",
       "      <td>124</td>\n",
       "      <td>7.0</td>\n",
       "      <td>485820</td>\n",
       "      <td>126.0</td>\n",
       "      <td>6.5</td>\n",
       "      <td>6.75</td>\n",
       "      <td>Adventure</td>\n",
       "      <td>Mystery</td>\n",
       "      <td>Sci-Fi</td>\n",
       "    </tr>\n",
       "    <tr>\n",
       "      <th>2</th>\n",
       "      <td>3</td>\n",
       "      <td>Split</td>\n",
       "      <td>Horror,Thriller</td>\n",
       "      <td>M. Night Shyamalan</td>\n",
       "      <td>James McAvoy, Anya Taylor-Joy, Haley Lu Richar...</td>\n",
       "      <td>2016</td>\n",
       "      <td>117</td>\n",
       "      <td>7.0</td>\n",
       "      <td>157606</td>\n",
       "      <td>138.0</td>\n",
       "      <td>6.2</td>\n",
       "      <td>6.60</td>\n",
       "      <td>Horror</td>\n",
       "      <td>Thriller</td>\n",
       "      <td>NaN</td>\n",
       "    </tr>\n",
       "    <tr>\n",
       "      <th>3</th>\n",
       "      <td>4</td>\n",
       "      <td>Sing</td>\n",
       "      <td>Animation,Comedy,Family</td>\n",
       "      <td>Christophe Lourdelet</td>\n",
       "      <td>Matthew McConaughey,Reese Witherspoon, Seth Ma...</td>\n",
       "      <td>2016</td>\n",
       "      <td>108</td>\n",
       "      <td>7.0</td>\n",
       "      <td>60545</td>\n",
       "      <td>270.0</td>\n",
       "      <td>5.9</td>\n",
       "      <td>6.45</td>\n",
       "      <td>Animation</td>\n",
       "      <td>Comedy</td>\n",
       "      <td>Family</td>\n",
       "    </tr>\n",
       "    <tr>\n",
       "      <th>4</th>\n",
       "      <td>5</td>\n",
       "      <td>Suicide Squad</td>\n",
       "      <td>Action,Adventure,Fantasy</td>\n",
       "      <td>David Ayer</td>\n",
       "      <td>Will Smith, Jared Leto, Margot Robbie, Viola D...</td>\n",
       "      <td>2016</td>\n",
       "      <td>123</td>\n",
       "      <td>6.0</td>\n",
       "      <td>393727</td>\n",
       "      <td>325.0</td>\n",
       "      <td>4.0</td>\n",
       "      <td>5.00</td>\n",
       "      <td>Action</td>\n",
       "      <td>Adventure</td>\n",
       "      <td>Fantasy</td>\n",
       "    </tr>\n",
       "  </tbody>\n",
       "</table>\n",
       "</div>"
      ],
      "text/plain": [
       "   Id                    Title                     Genre  \\\n",
       "0   1  Guardians of the Galaxy   Action,Adventure,Sci-Fi   \n",
       "1   2               Prometheus  Adventure,Mystery,Sci-Fi   \n",
       "2   3                    Split           Horror,Thriller   \n",
       "3   4                     Sing   Animation,Comedy,Family   \n",
       "4   5            Suicide Squad  Action,Adventure,Fantasy   \n",
       "\n",
       "               Director                                             Actors  \\\n",
       "0            James Gunn  Chris Pratt, Vin Diesel, Bradley Cooper, Zoe S...   \n",
       "1          Ridley Scott  Noomi Rapace, Logan Marshall-Green, Michael Fa...   \n",
       "2    M. Night Shyamalan  James McAvoy, Anya Taylor-Joy, Haley Lu Richar...   \n",
       "3  Christophe Lourdelet  Matthew McConaughey,Reese Witherspoon, Seth Ma...   \n",
       "4            David Ayer  Will Smith, Jared Leto, Margot Robbie, Viola D...   \n",
       "\n",
       "   Year  Runtime  Rating   Votes  RevenueMillions  Metascore  Avg_rating  \\\n",
       "0  2014      121     8.0  757074            333.0        7.6        7.80   \n",
       "1  2012      124     7.0  485820            126.0        6.5        6.75   \n",
       "2  2016      117     7.0  157606            138.0        6.2        6.60   \n",
       "3  2016      108     7.0   60545            270.0        5.9        6.45   \n",
       "4  2016      123     6.0  393727            325.0        4.0        5.00   \n",
       "\n",
       "  First Genre Second Genre Third Genre  \n",
       "0      Action    Adventure      Sci-Fi  \n",
       "1   Adventure      Mystery      Sci-Fi  \n",
       "2      Horror     Thriller         NaN  \n",
       "3   Animation       Comedy      Family  \n",
       "4      Action    Adventure     Fantasy  "
      ]
     },
     "execution_count": 54,
     "metadata": {},
     "output_type": "execute_result"
    }
   ],
   "source": [
    "IMDB_movies.head()"
   ]
  },
  {
   "cell_type": "code",
   "execution_count": 55,
   "id": "2f21112e",
   "metadata": {},
   "outputs": [
    {
     "data": {
      "text/html": [
       "<div>\n",
       "<style scoped>\n",
       "    .dataframe tbody tr th:only-of-type {\n",
       "        vertical-align: middle;\n",
       "    }\n",
       "\n",
       "    .dataframe tbody tr th {\n",
       "        vertical-align: top;\n",
       "    }\n",
       "\n",
       "    .dataframe thead th {\n",
       "        text-align: right;\n",
       "    }\n",
       "</style>\n",
       "<table border=\"1\" class=\"dataframe\">\n",
       "  <thead>\n",
       "    <tr style=\"text-align: right;\">\n",
       "      <th></th>\n",
       "      <th>Rating</th>\n",
       "      <th>RevenueMillions</th>\n",
       "      <th>Metascore</th>\n",
       "      <th>Avg_rating</th>\n",
       "    </tr>\n",
       "  </thead>\n",
       "  <tbody>\n",
       "    <tr>\n",
       "      <th>Rating</th>\n",
       "      <td>1.000000</td>\n",
       "      <td>0.198860</td>\n",
       "      <td>0.629571</td>\n",
       "      <td>0.835175</td>\n",
       "    </tr>\n",
       "    <tr>\n",
       "      <th>RevenueMillions</th>\n",
       "      <td>0.198860</td>\n",
       "      <td>1.000000</td>\n",
       "      <td>0.142384</td>\n",
       "      <td>0.178250</td>\n",
       "    </tr>\n",
       "    <tr>\n",
       "      <th>Metascore</th>\n",
       "      <td>0.629571</td>\n",
       "      <td>0.142384</td>\n",
       "      <td>1.000000</td>\n",
       "      <td>0.953108</td>\n",
       "    </tr>\n",
       "    <tr>\n",
       "      <th>Avg_rating</th>\n",
       "      <td>0.835175</td>\n",
       "      <td>0.178250</td>\n",
       "      <td>0.953108</td>\n",
       "      <td>1.000000</td>\n",
       "    </tr>\n",
       "  </tbody>\n",
       "</table>\n",
       "</div>"
      ],
      "text/plain": [
       "                   Rating  RevenueMillions  Metascore  Avg_rating\n",
       "Rating           1.000000         0.198860   0.629571    0.835175\n",
       "RevenueMillions  0.198860         1.000000   0.142384    0.178250\n",
       "Metascore        0.629571         0.142384   1.000000    0.953108\n",
       "Avg_rating       0.835175         0.178250   0.953108    1.000000"
      ]
     },
     "execution_count": 55,
     "metadata": {},
     "output_type": "execute_result"
    }
   ],
   "source": [
    "qualitative = ['Title', 'Genre', 'Director', 'Actors','First Genre','Second Genre','Third Genre']\n",
    "discrete = ['Year', 'Runtime', 'Votes']\n",
    "continuous = ['Rating', 'RevenueMillions', 'Metascore', 'Avg_rating']\n",
    "\n",
    "IMDB_movies[continuous].corr()"
   ]
  },
  {
   "cell_type": "code",
   "execution_count": 56,
   "id": "59903abc",
   "metadata": {
    "scrolled": true
   },
   "outputs": [
    {
     "data": {
      "text/html": [
       "<div>\n",
       "<style scoped>\n",
       "    .dataframe tbody tr th:only-of-type {\n",
       "        vertical-align: middle;\n",
       "    }\n",
       "\n",
       "    .dataframe tbody tr th {\n",
       "        vertical-align: top;\n",
       "    }\n",
       "\n",
       "    .dataframe thead th {\n",
       "        text-align: right;\n",
       "    }\n",
       "</style>\n",
       "<table border=\"1\" class=\"dataframe\">\n",
       "  <thead>\n",
       "    <tr style=\"text-align: right;\">\n",
       "      <th></th>\n",
       "      <th>Rating</th>\n",
       "      <th>RevenueMillions</th>\n",
       "      <th>Metascore</th>\n",
       "      <th>Avg_rating</th>\n",
       "    </tr>\n",
       "  </thead>\n",
       "  <tbody>\n",
       "    <tr>\n",
       "      <th>count</th>\n",
       "      <td>838.000000</td>\n",
       "      <td>838.000000</td>\n",
       "      <td>838.000000</td>\n",
       "      <td>838.000000</td>\n",
       "    </tr>\n",
       "    <tr>\n",
       "      <th>mean</th>\n",
       "      <td>6.867542</td>\n",
       "      <td>84.550119</td>\n",
       "      <td>5.957518</td>\n",
       "      <td>6.412530</td>\n",
       "    </tr>\n",
       "    <tr>\n",
       "      <th>std</th>\n",
       "      <td>0.932807</td>\n",
       "      <td>104.520418</td>\n",
       "      <td>1.695242</td>\n",
       "      <td>1.197403</td>\n",
       "    </tr>\n",
       "    <tr>\n",
       "      <th>min</th>\n",
       "      <td>2.000000</td>\n",
       "      <td>0.000000</td>\n",
       "      <td>1.100000</td>\n",
       "      <td>1.750000</td>\n",
       "    </tr>\n",
       "    <tr>\n",
       "      <th>25%</th>\n",
       "      <td>6.000000</td>\n",
       "      <td>14.000000</td>\n",
       "      <td>4.700000</td>\n",
       "      <td>5.550000</td>\n",
       "    </tr>\n",
       "    <tr>\n",
       "      <th>50%</th>\n",
       "      <td>7.000000</td>\n",
       "      <td>48.000000</td>\n",
       "      <td>6.000000</td>\n",
       "      <td>6.450000</td>\n",
       "    </tr>\n",
       "    <tr>\n",
       "      <th>75%</th>\n",
       "      <td>8.000000</td>\n",
       "      <td>117.000000</td>\n",
       "      <td>7.200000</td>\n",
       "      <td>7.350000</td>\n",
       "    </tr>\n",
       "    <tr>\n",
       "      <th>max</th>\n",
       "      <td>9.000000</td>\n",
       "      <td>937.000000</td>\n",
       "      <td>10.000000</td>\n",
       "      <td>9.000000</td>\n",
       "    </tr>\n",
       "  </tbody>\n",
       "</table>\n",
       "</div>"
      ],
      "text/plain": [
       "           Rating  RevenueMillions   Metascore  Avg_rating\n",
       "count  838.000000       838.000000  838.000000  838.000000\n",
       "mean     6.867542        84.550119    5.957518    6.412530\n",
       "std      0.932807       104.520418    1.695242    1.197403\n",
       "min      2.000000         0.000000    1.100000    1.750000\n",
       "25%      6.000000        14.000000    4.700000    5.550000\n",
       "50%      7.000000        48.000000    6.000000    6.450000\n",
       "75%      8.000000       117.000000    7.200000    7.350000\n",
       "max      9.000000       937.000000   10.000000    9.000000"
      ]
     },
     "execution_count": 56,
     "metadata": {},
     "output_type": "execute_result"
    }
   ],
   "source": [
    "IMDB_movies[continuous].describe()"
   ]
  },
  {
   "cell_type": "markdown",
   "id": "e1f7ad63",
   "metadata": {},
   "source": [
    "### Data Visualization\n"
   ]
  },
  {
   "cell_type": "code",
   "execution_count": 85,
   "id": "dd39bedc",
   "metadata": {},
   "outputs": [
    {
     "data": {
      "image/png": "[encoded data removed]",
      "text/plain": [
       "<Figure size 1440x720 with 1 Axes>"
      ]
     },
     "metadata": {
      "needs_background": "light"
     },
     "output_type": "display_data"
    }
   ],
   "source": [
    "plt.figure(figsize=[20,10]) \n",
    "sns.barplot(x='Genre',y='RevenueMillions', data=IMDB_genre) \n",
    "plt.show()\n",
    "\n",
    "#As we have only 20 variables, the information is easily transmitted to the user by a bar plot.\n",
    "#Movies that fit in the Adventure genre were the grossing ones. \n",
    "#Does this relationship also correlate with the votes?"
   ]
  },
  {
   "cell_type": "code",
   "execution_count": 84,
   "id": "9ca17db9",
   "metadata": {},
   "outputs": [
    {
     "data": {
      "image/png": "[encoded data removed]",
      "text/plain": [
       "<Figure size 1440x720 with 1 Axes>"
      ]
     },
     "metadata": {
      "needs_background": "light"
     },
     "output_type": "display_data"
    }
   ],
   "source": [
    "plt.figure(figsize=[20,10]) \n",
    "sns.barplot(x='Genre',y='Votes', data=IMDB_genre) \n",
    "plt.show()\n",
    "#We can see the people who vote in IMDB are drama queens. "
   ]
  },
  {
   "cell_type": "code",
   "execution_count": 81,
   "id": "818f7ec5",
   "metadata": {},
   "outputs": [
    {
     "data": {
      "image/png": "[encoded data removed]",
      "text/plain": [
       "<Figure size 1080x504 with 2 Axes>"
      ]
     },
     "metadata": {
      "needs_background": "light"
     },
     "output_type": "display_data"
    }
   ],
   "source": [
    "plt.figure(figsize=[15,7])\n",
    "sns.heatmap(IMDB_genre.corr(), linewidths=.5, annot=True)\n",
    "plt.show()\n",
    "#The correlation is great."
   ]
  },
  {
   "cell_type": "code",
   "execution_count": 80,
   "id": "ad3e0265",
   "metadata": {},
   "outputs": [
    {
     "data": {
      "image/png": "[encoded data removed]",
      "text/plain": [
       "<Figure size 720x720 with 20 Axes>"
      ]
     },
     "metadata": {
      "needs_background": "light"
     },
     "output_type": "display_data"
    }
   ],
   "source": [
    "sns.pairplot(IMDB_movies[continuous])\n",
    "plt.show()\n",
    "\n",
    "#Scatter chart is great to examine data and search by patterns or relationships, search to a pattern like and apply a linear regression, for example..."
   ]
  },
  {
   "cell_type": "code",
   "execution_count": 76,
   "id": "a0ac17a2",
   "metadata": {},
   "outputs": [
    {
     "data": {
      "image/png": "[encoded data removed]",
      "text/plain": [
       "<Figure size 1080x504 with 2 Axes>"
      ]
     },
     "metadata": {
      "needs_background": "light"
     },
     "output_type": "display_data"
    }
   ],
   "source": [
    "plt.figure(figsize=[15,7])\n",
    "sns.heatmap(IMDB_movies[continuous].corr(), linewidths=.5, annot=True)\n",
    "plt.show()\n",
    "\n",
    "#Heatmaps charts are perfect for representing correlations.\n",
    "\n",
    "#So, the answer to the first question. We have a moderate correlation about 0.62 between IMDB Rating and Metascore Rating.\n",
    "\n",
    "#Another interesting thing about, we have a low correlation of less than 0.2 between movies with revenue millions and the Avarege of Ratings.\n"
   ]
  },
  {
   "cell_type": "code",
   "execution_count": 78,
   "id": "272150c3",
   "metadata": {},
   "outputs": [
    {
     "data": {
      "image/png": "[encoded data removed]",
      "text/plain": [
       "<Figure size 1080x504 with 1 Axes>"
      ]
     },
     "metadata": {
      "needs_background": "light"
     },
     "output_type": "display_data"
    }
   ],
   "source": [
    "plt.figure(figsize=[15,7])\n",
    "IMDB_movies.groupby('Year')['RevenueMillions'].agg('sum').plot(marker='o')\n",
    "plt.title(\"Revenue Millions by Year\")\n",
    "plt.ylabel('Revenue Millions')\n",
    "plt.show()\n",
    "\n",
    "#Line charts are great to show how the data changes over time.\n",
    "\n",
    "#We see how revenue of the movies increases over the years. Technological advancements.\n",
    "\n"
   ]
  },
  {
   "cell_type": "code",
   "execution_count": 149,
   "id": "65f23341",
   "metadata": {},
   "outputs": [
    {
     "data": {
      "image/png": "[encoded data removed]",
      "text/plain": [
       "<Figure size 1080x504 with 1 Axes>"
      ]
     },
     "metadata": {
      "needs_background": "light"
     },
     "output_type": "display_data"
    }
   ],
   "source": [
    "plt.figure(figsize=[15,7])\n",
    "plt.bar(IMDB_movies.Year.value_counts().index, IMDB_movies.Year.value_counts().values, ec = \"k\", alpha = .6, color = \"black\")\n",
    "plt.xlabel(\"Year\")\n",
    "plt.ylabel(\"Count\")\n",
    "plt.title(\"Number of movies rated by year of release\")\n",
    "plt.show()"
   ]
  },
  {
   "cell_type": "code",
   "execution_count": 104,
   "id": "05548443",
   "metadata": {
    "scrolled": true
   },
   "outputs": [
    {
     "data": {
      "image/png": "[encoded data removed]",
      "text/plain": [
       "<Figure size 576x360 with 1 Axes>"
      ]
     },
     "metadata": {
      "needs_background": "light"
     },
     "output_type": "display_data"
    }
   ],
   "source": [
    "plt.figure(figsize=[8,5])\n",
    "sns.histplot(IMDB_movies.Runtime)\n",
    "plt.show()\n",
    "\n",
    "#The histogram is great to visualize probability distributions, like a Kernel density estimation here.\n"
   ]
  },
  {
   "cell_type": "code",
   "execution_count": 150,
   "id": "fa3417d4",
   "metadata": {},
   "outputs": [
    {
     "data": {
      "image/png": "[encoded data removed]",
      "text/plain": [
       "<Figure size 360x360 with 1 Axes>"
      ]
     },
     "metadata": {
      "needs_background": "light"
     },
     "output_type": "display_data"
    }
   ],
   "source": [
    "sns.displot(IMDB_movies.Runtime, kde=True)\n",
    "plt.show()"
   ]
  }
 ],
 "metadata": {
  "kernelspec": {
   "display_name": "Python 3 (ipykernel)",
   "language": "python",
   "name": "python3"
  },
  "language_info": {
   "codemirror_mode": {
    "name": "ipython",
    "version": 3
   },
   "file_extension": ".py",
   "mimetype": "text/x-python",
   "name": "python",
   "nbconvert_exporter": "python",
   "pygments_lexer": "ipython3",
   "version": "3.8.10"
  }
 },
 "nbformat": 4,
 "nbformat_minor": 5
}
